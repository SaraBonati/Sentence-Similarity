{
 "cells": [
  {
   "cell_type": "markdown",
   "metadata": {
    "id": "cTf0Qw6RX-Mj"
   },
   "source": [
    "# NLP sentence similarity project\n",
    "### Group: Sara Bonati - Irina Kokoshko\n",
    "\n",
    "This notebook applies the Li et al. (2006) model to sentence data taken from 3 different datasets:\n",
    "\n",
    "\n",
    "*   A subset of news sentence pairs from the STS benchmark, which we refer to as STS1\n",
    "*   A bigger subset from the STS benchmark containing sentence pairs from news/captions/internet forums from 2012 to 2017, which we refer to as STSFull\n",
    "*   Semantically ambiguous sentence pairs used in a survey online, which we refer to as Survey\n",
    "\n"
   ]
  },
  {
   "cell_type": "code",
   "execution_count": null,
   "metadata": {
    "colab": {
     "base_uri": "https://localhost:8080/"
    },
    "id": "0iaz54HXX5Qi",
    "outputId": "daa5d943-e12a-4d76-9ac9-d875c1303365"
   },
   "outputs": [],
   "source": [
    "# general utility import\n",
    "import numpy as np\n",
    "import matplotlib.pyplot as plt\n",
    "import seaborn as sns\n",
    "%matplotlib inline\n",
    "import matplotlib.gridspec as gridspec\n",
    "import pickle\n",
    "import math\n",
    "import pandas as pd\n",
    "import sys,io,pprint\n",
    "import re\n",
    "from tqdm import tqdm\n",
    "\n",
    "# nltk\n",
    "from __future__ import division\n",
    "!pip install nltk\n",
    "import nltk\n",
    "nltk.download('punkt')\n",
    "nltk.download('wordnet')\n",
    "nltk.download('stopwords')\n",
    "from nltk.corpus import wordnet as wn, stopwords\n",
    "from nltk.corpus import brown, gutenberg\n",
    "from nltk.stem import WordNetLemmatizer\n",
    "from nltk.data import find"
   ]
  },
  {
   "cell_type": "markdown",
   "metadata": {
    "id": "f_T_wGs3hXXC"
   },
   "source": [
    "#STS1 Data"
   ]
  },
  {
   "cell_type": "markdown",
   "metadata": {
    "id": "oXn95VwOJ-UT"
   },
   "source": [
    "### Load data"
   ]
  },
  {
   "cell_type": "code",
   "execution_count": 2,
   "metadata": {
    "colab": {
     "base_uri": "https://localhost:8080/",
     "height": 204
    },
    "id": "do4gg8GahZUc",
    "outputId": "75e75d78-7a7c-4f57-cedc-6a0aae176073"
   },
   "outputs": [
    {
     "data": {
      "text/html": [
       "<div>\n",
       "<style scoped>\n",
       "    .dataframe tbody tr th:only-of-type {\n",
       "        vertical-align: middle;\n",
       "    }\n",
       "\n",
       "    .dataframe tbody tr th {\n",
       "        vertical-align: top;\n",
       "    }\n",
       "\n",
       "    .dataframe thead th {\n",
       "        text-align: right;\n",
       "    }\n",
       "</style>\n",
       "<table border=\"1\" class=\"dataframe\">\n",
       "  <thead>\n",
       "    <tr style=\"text-align: right;\">\n",
       "      <th></th>\n",
       "      <th>SentenceA</th>\n",
       "      <th>SentenceB</th>\n",
       "      <th>Score</th>\n",
       "    </tr>\n",
       "  </thead>\n",
       "  <tbody>\n",
       "    <tr>\n",
       "      <th>1</th>\n",
       "      <td>Micron has declared its first quarterly profit...</td>\n",
       "      <td>Micron's numbers also marked the first quarter...</td>\n",
       "      <td>3.750</td>\n",
       "    </tr>\n",
       "    <tr>\n",
       "      <th>2</th>\n",
       "      <td>The fines are part of failed Republican effort...</td>\n",
       "      <td>Perry said he backs the Senate's efforts, incl...</td>\n",
       "      <td>2.800</td>\n",
       "    </tr>\n",
       "    <tr>\n",
       "      <th>4</th>\n",
       "      <td>The tech-loaded Nasdaq composite rose 20.96 po...</td>\n",
       "      <td>The technology-laced Nasdaq Composite Index &lt;....</td>\n",
       "      <td>2.400</td>\n",
       "    </tr>\n",
       "    <tr>\n",
       "      <th>5</th>\n",
       "      <td>Amgen shares gained 93 cents, or 1.45 percent,...</td>\n",
       "      <td>Shares of Allergan were up 14 cents at $78.40 ...</td>\n",
       "      <td>1.333</td>\n",
       "    </tr>\n",
       "    <tr>\n",
       "      <th>7</th>\n",
       "      <td>Chavez said investigators feel confident they'...</td>\n",
       "      <td>Albuquerque Mayor Martin Chavez said investiga...</td>\n",
       "      <td>3.800</td>\n",
       "    </tr>\n",
       "  </tbody>\n",
       "</table>\n",
       "</div>"
      ],
      "text/plain": [
       "                                           SentenceA  \\\n",
       "1  Micron has declared its first quarterly profit...   \n",
       "2  The fines are part of failed Republican effort...   \n",
       "4  The tech-loaded Nasdaq composite rose 20.96 po...   \n",
       "5  Amgen shares gained 93 cents, or 1.45 percent,...   \n",
       "7  Chavez said investigators feel confident they'...   \n",
       "\n",
       "                                           SentenceB  Score  \n",
       "1  Micron's numbers also marked the first quarter...  3.750  \n",
       "2  Perry said he backs the Senate's efforts, incl...  2.800  \n",
       "4  The technology-laced Nasdaq Composite Index <....  2.400  \n",
       "5  Shares of Allergan were up 14 cents at $78.40 ...  1.333  \n",
       "7  Albuquerque Mayor Martin Chavez said investiga...  3.800  "
      ]
     },
     "execution_count": 2,
     "metadata": {},
     "output_type": "execute_result"
    }
   ],
   "source": [
    "sts1 = pd.read_pickle(\"../Data/sentences_shorter.pkl\")\n",
    "sts1.head()"
   ]
  },
  {
   "cell_type": "markdown",
   "metadata": {
    "id": "Nkx-21zAKBZX"
   },
   "source": [
    "### Preprocess data + normalize semantic similarity score"
   ]
  },
  {
   "cell_type": "code",
   "execution_count": null,
   "metadata": {
    "colab": {
     "base_uri": "https://localhost:8080/",
     "height": 306
    },
    "id": "eOd8m1ZshenS",
    "outputId": "f4b15ff7-f6bc-4e2a-d203-762e11d97a05"
   },
   "outputs": [
    {
     "name": "stdout",
     "output_type": "stream",
     "text": [
      "micron has declared its first quarterly profit for three years \n",
      "micron numbers also marked the first quarterly profit in three years for the dram manufacturer \n",
      "the fines are part of failed republican efforts to force or entice the democrats to return \n",
      "perry said he backs the senate efforts including the fines to force the democrats to return \n",
      "the tech loaded nasdaq composite rose 20 96 points to 1595 91 ending at its highest level for 12 months \n",
      "the technology laced nasdaq composite index ixic climbed 19 11 points or 1 2 percent to 1 615 02 \n"
     ]
    },
    {
     "data": {
      "text/html": [
       "<div>\n",
       "<style scoped>\n",
       "    .dataframe tbody tr th:only-of-type {\n",
       "        vertical-align: middle;\n",
       "    }\n",
       "\n",
       "    .dataframe tbody tr th {\n",
       "        vertical-align: top;\n",
       "    }\n",
       "\n",
       "    .dataframe thead th {\n",
       "        text-align: right;\n",
       "    }\n",
       "</style>\n",
       "<table border=\"1\" class=\"dataframe\">\n",
       "  <thead>\n",
       "    <tr style=\"text-align: right;\">\n",
       "      <th></th>\n",
       "      <th>SentenceA</th>\n",
       "      <th>SentenceB</th>\n",
       "      <th>Score</th>\n",
       "    </tr>\n",
       "  </thead>\n",
       "  <tbody>\n",
       "    <tr>\n",
       "      <th>1</th>\n",
       "      <td>micron has declared its first quarterly profit...</td>\n",
       "      <td>micron numbers also marked the first quarterly...</td>\n",
       "      <td>0.7500</td>\n",
       "    </tr>\n",
       "    <tr>\n",
       "      <th>2</th>\n",
       "      <td>the fines are part of failed republican effort...</td>\n",
       "      <td>perry said he backs the senate efforts includi...</td>\n",
       "      <td>0.5600</td>\n",
       "    </tr>\n",
       "    <tr>\n",
       "      <th>4</th>\n",
       "      <td>the tech loaded nasdaq composite rose 20 96 po...</td>\n",
       "      <td>the technology laced nasdaq composite index ix...</td>\n",
       "      <td>0.4800</td>\n",
       "    </tr>\n",
       "    <tr>\n",
       "      <th>5</th>\n",
       "      <td>amgen shares gained 93 cents or 1 45 percent t...</td>\n",
       "      <td>shares of allergan were up 14 cents at 78 40 i...</td>\n",
       "      <td>0.2666</td>\n",
       "    </tr>\n",
       "    <tr>\n",
       "      <th>7</th>\n",
       "      <td>chavez said investigators feel confident they ...</td>\n",
       "      <td>albuquerque mayor martin chavez said investiga...</td>\n",
       "      <td>0.7600</td>\n",
       "    </tr>\n",
       "  </tbody>\n",
       "</table>\n",
       "</div>"
      ],
      "text/plain": [
       "                                           SentenceA  ...   Score\n",
       "1  micron has declared its first quarterly profit...  ...  0.7500\n",
       "2  the fines are part of failed republican effort...  ...  0.5600\n",
       "4  the tech loaded nasdaq composite rose 20 96 po...  ...  0.4800\n",
       "5  amgen shares gained 93 cents or 1 45 percent t...  ...  0.2666\n",
       "7  chavez said investigators feel confident they ...  ...  0.7600\n",
       "\n",
       "[5 rows x 3 columns]"
      ]
     },
     "execution_count": 3,
     "metadata": {
      "tags": []
     },
     "output_type": "execute_result"
    }
   ],
   "source": [
    "def preprocess_text(text):\n",
    "    # convert to string\n",
    "    text = str(text)\n",
    "    #lowercase\n",
    "    text = text.lower()\n",
    "    # Clean the text\n",
    "    text = re.sub(r\"won\\'t\", \"will not\", text)\n",
    "    text = re.sub(r\"can\\'t\", \"can not\", text)\n",
    "    text = re.sub(r\"she\\'s\", \"she is\", text)\n",
    "    text = re.sub(r\"it\\'s\", \"it is\", text)\n",
    "    text = re.sub(r\"he\\'s\", \"he is\", text)\n",
    "    text = re.sub(r\"[^A-Za-z0-9^,!.\\/'+-=]\", \" \", text)\n",
    "    text = re.sub(r\"what's\", \"what is \", text)\n",
    "    text = re.sub(r\"\\'s\", \" \", text)\n",
    "    text = re.sub(r\"\\'ve\", \" have \", text)\n",
    "    text = re.sub(r\"can't\", \"cannot \", text)\n",
    "    text = re.sub(r\"n't\", \" not \", text)\n",
    "    text = re.sub(r\"i'm\", \"i am \", text)\n",
    "    text = re.sub(r\"\\'re\", \" are \", text)\n",
    "    text = re.sub(r\"\\'d\", \" would \", text)\n",
    "    text = re.sub(r\"\\'ll\", \" will \", text)\n",
    "    text = re.sub(r\",\", \" \", text)\n",
    "    text = re.sub(r\"\\.\", \" \", text)\n",
    "    text = re.sub(r\"!\", \" ! \", text)\n",
    "    text = re.sub(r\"\\/\", \" \", text)\n",
    "    text = re.sub(r\"\\^\", \" ^ \", text)\n",
    "    text = re.sub(r\"\\+\", \" + \", text)\n",
    "    text = re.sub(r\"\\-\", \" \", text)\n",
    "    text = re.sub(r\"\\=\", \" = \", text)\n",
    "    text = re.sub(r\"\\<\", \"\", text)\n",
    "    text = re.sub(r\"\\>\", \"\", text)\n",
    "    text = re.sub(r\"'\", \" \", text)\n",
    "    text = re.sub(r\"(\\d+)(k)\", r\"\\g<1>000\", text)\n",
    "    text = re.sub(r\":\", \" : \", text)\n",
    "    text = re.sub(r\" e g \", \" eg \", text)\n",
    "    text = re.sub(r\" b g \", \" bg \", text)\n",
    "    text = re.sub(r\" u s \", \" american \", text)\n",
    "    text = re.sub(r\"\\0s\", \"0\", text)\n",
    "    text = re.sub(r\" 9 11 \", \"911\", text)\n",
    "    text = re.sub(r\"e - mail\", \"email\", text)\n",
    "    text = re.sub(r\"j k\", \"jk\", text)\n",
    "    text = re.sub(r\"\\s{2,}\", \" \", text)\n",
    "\n",
    "    tockens = text.split(' ')\n",
    "    # NO stopwords or lemmatization\n",
    "    tockens = [word for word in tockens]\n",
    "    return ' '.join([t for t in tockens])\n",
    "\n",
    "for index, row in sts1.iterrows():\n",
    "    sts1.loc[index, \"SentenceA\"] = preprocess_text(sts1.loc[index, \"SentenceA\"])\n",
    "    sts1.loc[index, \"SentenceB\"] = preprocess_text(sts1.loc[index, \"SentenceB\"])\n",
    "    if index in [0,1,2,3,4]:\n",
    "        print(sts1.loc[index, \"SentenceA\"])\n",
    "        print(sts1.loc[index, \"SentenceB\"])\n",
    "\n",
    "sts1[\"Score\"] = sts1[\"Score\"]/5\n",
    "sts1.head()"
   ]
  },
  {
   "cell_type": "markdown",
   "metadata": {
    "id": "uiMS-RfK8gVa"
   },
   "source": [
    "### Li model class (original code from Prof. Dr. Jacobs)"
   ]
  },
  {
   "cell_type": "code",
   "execution_count": null,
   "metadata": {
    "id": "CGVz2Y3wiPNf"
   },
   "outputs": [],
   "source": [
    "class Li:\n",
    "    def __init__(self,alpha,beta,eta,phi,delta,dataset_name):\n",
    "\n",
    "        # Parameters to the algorithm. Currently set to values that was reported\n",
    "        # in the paper to produce \"best\" results.\n",
    "        self.ALPHA        = alpha  # \\alpha \\in [0,1] -> parameter scaling the contribution of shortest path length\n",
    "        self.BETA         = beta # \\beta \\in (0,1] -> parameter scaling the contribution of shortest path depth\n",
    "        self.ETA          = eta  # word order threshold\n",
    "        self.PHI          = phi  # semantic threshold\n",
    "        self.DELTA        = delta # Since syntax plays a subordinate role for semantic \n",
    "        self.dataset_name = dataset_name # which dataset are we analyzing?\n",
    "\n",
    "\n",
    "    ######################### word similarity ##########################\n",
    "\n",
    "    def get_best_synset_pair(self,word_1, word_2):\n",
    "        \"\"\" \n",
    "        Choose the pair with highest path similarity among all pairs. \n",
    "        Mimics pattern-seeking behavior of humans.\n",
    "        \"\"\"\n",
    "        max_sim = -1.0\n",
    "        synsets_1 = wn.synsets(word_1)\n",
    "        synsets_2 = wn.synsets(word_2)\n",
    "        if len(synsets_1) == 0 or len(synsets_2) == 0:\n",
    "            return None, None\n",
    "        else:\n",
    "            max_sim = -1.0\n",
    "            best_pair = None, None\n",
    "            for synset_1 in synsets_1:\n",
    "                for synset_2 in synsets_2:\n",
    "                    sim = wn.path_similarity(synset_1, synset_2)\n",
    "                    #sim = wn.wup_similarity(synset_1, synset_2)\n",
    "                    if sim == None:\n",
    "                        sim = 0\n",
    "                    if sim > max_sim:\n",
    "                        max_sim = sim\n",
    "                        best_pair = synset_1, synset_2\n",
    "            return best_pair\n",
    "    \n",
    "\n",
    "    def length_dist(self,synset_1, synset_2):\n",
    "        \"\"\"\n",
    "        Return a measure of the length of the shortest path in the semantic \n",
    "        ontology (Wordnet in our case as well as the paper's) between two \n",
    "        synsets.\n",
    "        \"\"\"\n",
    "        l_dist = sys.maxsize\n",
    "        if synset_1 is None or synset_2 is None: \n",
    "            return 0.0\n",
    "        if synset_1 == synset_2:\n",
    "            # if synset_1 and synset_2 are the same synset return 0\n",
    "            l_dist = 0.0\n",
    "        else:\n",
    "            wset_1 = set([str(x.name()) for x in synset_1.lemmas()])        \n",
    "            wset_2 = set([str(x.name()) for x in synset_2.lemmas()])\n",
    "            if len(wset_1.intersection(wset_2)) > 0:\n",
    "                # if synset_1 != synset_2 but there is word overlap, return 1.0\n",
    "                l_dist = 1.0\n",
    "            else:\n",
    "                # just compute the shortest path between the two\n",
    "                l_dist = synset_1.shortest_path_distance(synset_2)\n",
    "                if l_dist is None:\n",
    "                    l_dist = 0.0\n",
    "        # normalize path length to the range [0,1]\n",
    "        return math.exp(-self.ALPHA * l_dist)\n",
    "    \n",
    " \n",
    "    def hierarchy_dist(self,synset_1, synset_2):\n",
    "        \"\"\"\n",
    "        Return a measure of depth in the ontology to model the fact that \n",
    "        nodes closer to the root are broader and have less semantic similarity\n",
    "        than nodes further away from the root.\n",
    "        \"\"\"\n",
    "        h_dist = sys.maxsize\n",
    "        if synset_1 is None or synset_2 is None: \n",
    "            return h_dist\n",
    "        if synset_1 == synset_2:\n",
    "            # return the depth of one of synset_1 or synset_2\n",
    "            h_dist = max([x[1] for x in synset_1.hypernym_distances()])\n",
    "        else:\n",
    "            # find the max depth of least common subsumer\n",
    "            hypernyms_1 = {x[0]:x[1] for x in synset_1.hypernym_distances()}\n",
    "            hypernyms_2 = {x[0]:x[1] for x in synset_2.hypernym_distances()}\n",
    "            lcs_candidates = set(hypernyms_1.keys()).intersection(set(hypernyms_2.keys()))\n",
    "            if len(lcs_candidates) > 0:\n",
    "                lcs_dists = []\n",
    "                for lcs_candidate in lcs_candidates:\n",
    "                    lcs_d1 = 0\n",
    "                    #if hypernyms_1.has_key(lcs_candidate):\n",
    "                    if (lcs_candidate) in hypernyms_1:\n",
    "                        lcs_d1 = hypernyms_1[lcs_candidate]\n",
    "                    lcs_d2 = 0\n",
    "                    #if hypernyms_2.has_key(lcs_candidate):\n",
    "                    if (lcs_candidate) in hypernyms_2:   \n",
    "                        lcs_d2 = hypernyms_2[lcs_candidate]\n",
    "                    lcs_dists.append(max([lcs_d1, lcs_d2]))\n",
    "                h_dist = max(lcs_dists)\n",
    "            else:\n",
    "                h_dist = 0\n",
    "        return ((math.exp(self.BETA * h_dist) - math.exp(-self.BETA * h_dist)) / \n",
    "            (math.exp(self.BETA * h_dist) + math.exp(-self.BETA * h_dist)))\n",
    "    \n",
    "\n",
    "    def word_similarity(self,word_1, word_2):\n",
    "        synset_pair = self.get_best_synset_pair(word_1, word_2)\n",
    "        return (self.length_dist(synset_pair[0], synset_pair[1]) * self.hierarchy_dist(synset_pair[0], synset_pair[1]))\n",
    "\n",
    "    ######################### sentence similarity ##########################\n",
    "\n",
    "    def most_similar_word(self,word, word_set):\n",
    "        \"\"\"\n",
    "        Find the word in the joint word set that is most similar to the word\n",
    "        passed in. We use the algorithm above to compute word similarity between\n",
    "        the word and each word in the joint word set, and return the most similar\n",
    "        word and the actual similarity value.\n",
    "        \"\"\"\n",
    "        max_sim = -1.0\n",
    "        sim_word = \"\"\n",
    "        for ref_word in word_set:\n",
    "            sim = self.word_similarity(word, ref_word)\n",
    "            if sim > max_sim:\n",
    "                max_sim = sim\n",
    "                sim_word = ref_word\n",
    "        return sim_word, max_sim\n",
    "    \n",
    "# def info_content(lookup_word):\n",
    "#     \"\"\"\n",
    "#     Uses the Brown corpus available in NLTK to calculate a Laplace\n",
    "#     smoothed frequency distribution of words, then uses this information\n",
    "#     to compute the information content of the lookup_word.\n",
    "#     \"\"\"\n",
    "#     global N\n",
    "#     if N == 0:\n",
    "#         # poor man's lazy evaluation\n",
    "#         for sent in brown.sents():\n",
    "#             for word in sent:\n",
    "#                 word = word.lower()\n",
    "#                 #if not brown_freqs.has_key(word):\n",
    "#                 if word not in brown_freqs:\n",
    "#                     brown_freqs[word] = 0\n",
    "#                 brown_freqs[word] = brown_freqs[word] + 1\n",
    "#                 N = N + 1\n",
    "#     lookup_word = lookup_word.lower()\n",
    "#     #n = 0 if not brown_freqs.has_key(lookup_word) else brown_freqs[lookup_word]\n",
    "#     n = 0 if not lookup_word in brown_freqs else brown_freqs[lookup_word]\n",
    "#     return 1.0 - (math.log(n + 1) / math.log(N + 1))\n",
    "\n",
    "    def semantic_vector(self,words, joint_words, info_content_norm):\n",
    "        \"\"\"\n",
    "        Computes the semantic vector of a sentence. The sentence is passed in as\n",
    "        a collection of words. The size of the semantic vector is the same as the\n",
    "        size of the joint word set. The elements are 1 if a word in the sentence\n",
    "        already exists in the joint word set, or the similarity of the word to the\n",
    "        most similar word in the joint word set if it doesn't. Both values are \n",
    "        further normalized by the word's (and similar word's) information content\n",
    "        if info_content_norm is True.\n",
    "        \"\"\"\n",
    "        sent_set = set(words)\n",
    "        semvec = np.zeros(len(joint_words))\n",
    "        i = 0\n",
    "        for joint_word in joint_words:\n",
    "            if joint_word in sent_set:\n",
    "                # if word in union exists in the sentence, s(i) = 1 (unnormalized)\n",
    "                semvec[i] = 1.0\n",
    "                if info_content_norm:\n",
    "                    semvec[i] = semvec[i] * math.pow(info_content(joint_word), 2)\n",
    "            else:\n",
    "                # find the most similar word in the joint set and set the sim value\n",
    "                sim_word, max_sim = self.most_similar_word(joint_word, sent_set)\n",
    "                semvec[i] = self.PHI if max_sim > self.PHI else 0.0\n",
    "                #semvec[i] = max_sim if max_sim > PHI else 0.0\n",
    "                if info_content_norm:\n",
    "                    semvec[i] = semvec[i] * info_content(joint_word) * info_content(sim_word)\n",
    "            i = i + 1\n",
    "        return semvec                \n",
    "\n",
    "\n",
    "    def semantic_similarity(self,sentence_1, sentence_2, info_content_norm):\n",
    "        \"\"\"\n",
    "        Computes the semantic similarity between two sentences as the cosine\n",
    "        similarity between the semantic vectors computed for each sentence.\n",
    "        \"\"\"\n",
    "        words_1 = nltk.word_tokenize(sentence_1)\n",
    "        words_2 = nltk.word_tokenize(sentence_2)\n",
    "        joint_words = set(words_1).union(set(words_2))\n",
    "        vec_1 = self.semantic_vector(words_1, joint_words, info_content_norm)\n",
    "        vec_2 = self.semantic_vector(words_2, joint_words, info_content_norm)\n",
    "        return np.dot(vec_1, vec_2.T) / (np.linalg.norm(vec_1) * np.linalg.norm(vec_2))\n",
    "\n",
    "    ######################### word order similarity ##########################\n",
    "\n",
    "    def word_order_vector(self,words, joint_words, windex):\n",
    "        \"\"\"\n",
    "        Computes the word order vector for a sentence. The sentence is passed\n",
    "        in as a collection of words. The size of the word order vector is the\n",
    "        same as the size of the joint word set. The elements of the word order\n",
    "        vector are the position mapping (from the windex dictionary) of the \n",
    "        word in the joint set if the word exists in the sentence. If the word\n",
    "        does not exist in the sentence, then the value of the element is the \n",
    "        position of the most similar word in the sentence as long as the similarity\n",
    "        is above the threshold ETA.\n",
    "            \"\"\"\n",
    "        wovec = np.zeros(len(joint_words))\n",
    "        i = 0\n",
    "        wordset = set(words)\n",
    "        for joint_word in joint_words:\n",
    "            if joint_word in wordset:\n",
    "                # word in joint_words found in sentence, just populate the index\n",
    "                wovec[i] = windex[joint_word]\n",
    "            else:\n",
    "                # word not in joint_words, find most similar word and populate\n",
    "                # word_vector with the thresholded similarity\n",
    "                sim_word, max_sim = self.most_similar_word(joint_word, wordset)\n",
    "                if max_sim > self.ETA:\n",
    "                    wovec[i] = windex[sim_word]\n",
    "                else:\n",
    "                    wovec[i] = 0\n",
    "            i = i + 1\n",
    "        return wovec\n",
    "    \n",
    "    def word_order_similarity(self,sentence_1, sentence_2):\n",
    "        \"\"\"\n",
    "        Computes the word-order similarity between two sentences as the normalized\n",
    "        difference of word order between the two sentences.\n",
    "        \"\"\"\n",
    "        words_1 = nltk.word_tokenize(sentence_1)\n",
    "        words_2 = nltk.word_tokenize(sentence_2)\n",
    "        joint_words = list(set(words_1).union(set(words_2)))\n",
    "        windex = {x[1]: x[0] for x in enumerate(joint_words)}\n",
    "        r1 = self.word_order_vector(words_1, joint_words, windex)\n",
    "        r2 = self.word_order_vector(words_2, joint_words, windex)\n",
    "        return 1.0 - (np.linalg.norm(r1 - r2) / np.linalg.norm(r1 + r2))\n",
    "\n",
    "    ######################### overall similarity ##########################\n",
    "\n",
    "    def similarity(self,sentence_1, sentence_2, info_content_norm):\n",
    "        \"\"\"\n",
    "        Calculate the semantic similarity between two sentences. The last \n",
    "        parameter is True or False depending on whether information content\n",
    "        normalization is desired or not.\n",
    "        \"\"\"\n",
    "        return self.semantic_similarity(sentence_1, sentence_2, info_content_norm),\\\n",
    "            self.word_order_similarity(sentence_1, sentence_2),\\\n",
    "            self.DELTA * self.semantic_similarity(sentence_1, sentence_2, info_content_norm) + (1.0 - self.DELTA) * self.word_order_similarity(sentence_1, sentence_2)\n",
    "    \n",
    "\n",
    "    ######################### applying model to dataset ##########################\n",
    "    def test_model(self,data):\n",
    "        \"\"\"\n",
    "        Tests the Li model and returns the semantic / word order / overall Li similarity scores\n",
    "        for an input dataframe \"data\".\n",
    "        \"\"\"\n",
    "        # initialize scores array\n",
    "        sem_results = np.zeros((len(data),1))\n",
    "        ord_results = np.zeros((len(data),1))\n",
    "        results     = np.zeros((len(data),1)) \n",
    "\n",
    "        for s in tqdm(range(len(data))):\n",
    "            if self.dataset_name == \"STS1\" or self.dataset_name == \"survey\":\n",
    "                s1 = str(data.iloc[s,0]) #index of sentence 1 column in dataframe\n",
    "                s2 = str(data.iloc[s,1]) #index of sentence 2 column in dataframe\n",
    "            elif self.dataset_name == \"STSFull\":\n",
    "                s1 = str(data.iloc[s,5]) #index of sentence 1 column in dataframe\n",
    "                s2 = str(data.iloc[s,6]) #index of sentence 2 column in dataframe\n",
    "            \n",
    "            sem_results[s,0],ord_results[s,0],results[s,0] = self.similarity(s1,s2,False)\n",
    "        \n",
    "        return pd.DataFrame({'Score_sem': sem_results[:,0],\n",
    "                             'Score_ord': ord_results[:,0],\n",
    "                             'Score_Li': results[:,0]})"
   ]
  },
  {
   "cell_type": "markdown",
   "metadata": {
    "id": "GFWvABtTLhLv"
   },
   "source": [
    "### test model (STS1)"
   ]
  },
  {
   "cell_type": "code",
   "execution_count": null,
   "metadata": {
    "colab": {
     "base_uri": "https://localhost:8080/"
    },
    "id": "ig9et8M2iQCr",
    "outputId": "95080f0b-64f6-422d-d760-7386a99b282a"
   },
   "outputs": [
    {
     "name": "stderr",
     "output_type": "stream",
     "text": [
      "100%|██████████| 1218/1218 [16:48<00:00,  1.21it/s]"
     ]
    },
    {
     "name": "stdout",
     "output_type": "stream",
     "text": [
      "0.24052163823246087\n"
     ]
    },
    {
     "name": "stderr",
     "output_type": "stream",
     "text": [
      "\n"
     ]
    }
   ],
   "source": [
    "ALPHA = 0.2  # \\alpha \\in [0,1] -> parameter scaling the contribution of shortest path length\n",
    "BETA  = 0.45 # \\beta \\in (0,1] -> parameter scaling the contribution of shortest path depth\n",
    "ETA   = 0.4  # word order threshold\n",
    "PHI   = 0.2  # semantic threshold\n",
    "DELTA = 0.85 # Since syntax plays a subordinate role for semantic\n",
    "\n",
    "# initialize model\n",
    "Li_model = Li(ALPHA,BETA,ETA,PHI,DELTA,'STS1')\n",
    "\n",
    "# test model\n",
    "res_dataframe = Li_model.test_model(sts1)\n",
    "Li_model_corr = res_dataframe[\"Score_Li\"].corr(sts1[\"Score\"])\n",
    "print(Li_model_corr)\n",
    "\n",
    "#adding the semantic li score\n",
    "sts1['Li_sem']=res_dataframe[\"Score_sem\"]\n",
    "#adding the word order li score\n",
    "sts1['Li_ord']=res_dataframe[\"Score_ord\"]\n",
    "#adding final li score\n",
    "sts1['Li_final']=res_dataframe[\"Score_Li\"]\n"
   ]
  },
  {
   "cell_type": "markdown",
   "metadata": {
    "id": "RJzNlGnALkUX"
   },
   "source": [
    "### visualize results ( original similarity scores compared to semantic,word order and overall Li similarity scores) on a subset of STS1 sentence pairs"
   ]
  },
  {
   "cell_type": "code",
   "execution_count": null,
   "metadata": {
    "colab": {
     "base_uri": "https://localhost:8080/",
     "height": 821
    },
    "id": "Pp1h7X-7wXl_",
    "outputId": "0fa9c1c9-6403-4d7a-cde5-51d215b50741"
   },
   "outputs": [
    {
     "data": {
      "text/plain": [
       "Text(132.0, 0.5, 'STS1 sentence pair index')"
      ]
     },
     "execution_count": 6,
     "metadata": {
      "tags": []
     },
     "output_type": "execute_result"
    },
    {
     "data": {
      "image/png": "[encoded data removed]",
      "text/plain": [
       "<Figure size 1224x936 with 2 Axes>"
      ]
     },
     "metadata": {
      "needs_background": "light",
      "tags": []
     },
     "output_type": "display_data"
    }
   ],
   "source": [
    "#figure (sts1 sentences)\n",
    "sts1_sentences = sts1.loc[:8,['Score','Li_sem','Li_ord','Li_final']]\n",
    "\n",
    "fig1 = plt.figure(figsize=(17,13))\n",
    "gs = gridspec.GridSpec(1,1)\n",
    "ax={}\n",
    "ax[0]=fig1.add_subplot(gs[0,0])\n",
    "ax[0]=sns.heatmap(sts1_sentences, \n",
    "                  annot=True,\n",
    "                  cmap='viridis',\n",
    "                  linewidths=.5,\n",
    "                  cbar_kws={'label': 'semantic similarity score'})\n",
    "ax[0].tick_params(axis='both', which='major', labelsize=15)\n",
    "ax[0].tick_params(axis='y',rotation=0, labelsize=15)\n",
    "ax[0].set_title(\"Sentences (Li model, dataset: STS1)\",fontsize=20)\n",
    "ax[0].set_xlabel(\"Similarity Scores\",fontsize=17)\n",
    "ax[0].set_ylabel(\"STS1 sentence pair index\",fontsize=17)"
   ]
  },
  {
   "cell_type": "code",
   "execution_count": null,
   "metadata": {
    "colab": {
     "base_uri": "https://localhost:8080/"
    },
    "id": "uhT963K8SH-i",
    "outputId": "2a63325d-13ac-4b66-9874-7fa7138d4b73"
   },
   "outputs": [
    {
     "name": "stdout",
     "output_type": "stream",
     "text": [
      "micron has declared its first quarterly profit for three years \n",
      "micron numbers also marked the first quarterly profit in three years for the dram manufacturer \n",
      "\n",
      "\n",
      "the fines are part of failed republican efforts to force or entice the democrats to return \n",
      "perry said he backs the senate efforts including the fines to force the democrats to return \n",
      "\n",
      "\n",
      "the tech loaded nasdaq composite rose 20 96 points to 1595 91 ending at its highest level for 12 months \n",
      "the technology laced nasdaq composite index ixic climbed 19 11 points or 1 2 percent to 1 615 02 \n",
      "\n",
      "\n",
      "amgen shares gained 93 cents or 1 45 percent to 65 05 in afternoon trading on nasdaq \n",
      "shares of allergan were up 14 cents at 78 40 in late trading on the new york stock exchange \n",
      "\n",
      "\n",
      "chavez said investigators feel confident they have got at least one of the fires resolved in that regard \n",
      "albuquerque mayor martin chavez said investigators felt confident that with the arrests they had at least one of the fires resolved \n",
      "\n",
      "\n",
      "authorities said the scientist properly quarantined himself at home after he developed sars symptoms dec 10 \n",
      "the scientist also quarantined himself at home as soon as he developed sars symptoms officials said \n",
      "\n",
      "\n",
      "the support will come as a free software upgrade called webvpn for current customers that have support contracts \n",
      "the upgrade will be available as a free download for current customers with smarnet support in january 2004 \n",
      "\n",
      "\n",
      "counties with population declines will be vermillion posey and madison \n",
      "vermillion posey and madison county populations will decline \n",
      "\n",
      "\n"
     ]
    }
   ],
   "source": [
    "for i in range(8):\n",
    "    print(sts1.iloc[i,0])\n",
    "    print(sts1.iloc[i,1])\n",
    "    print(\"\\n\")"
   ]
  },
  {
   "cell_type": "markdown",
   "metadata": {
    "id": "rm4rqwTohVLq"
   },
   "source": [
    "# STS Full"
   ]
  },
  {
   "cell_type": "markdown",
   "metadata": {
    "id": "PaOHt_pfS2Hw"
   },
   "source": [
    "### load data"
   ]
  },
  {
   "cell_type": "code",
   "execution_count": null,
   "metadata": {
    "colab": {
     "base_uri": "https://localhost:8080/"
    },
    "id": "h7DKZtqqe5JI",
    "outputId": "d5a1624a-95e6-4617-c1c7-591f0efea304"
   },
   "outputs": [
    {
     "name": "stderr",
     "output_type": "stream",
     "text": [
      "Skipping line 1525: '\t' expected after '\"'\n",
      "Skipping line 1542: '\t' expected after '\"'\n",
      "Skipping line 1614: '\t' expected after '\"'\n",
      "Skipping line 2002: '\t' expected after '\"'\n",
      "Skipping line 2003: '\t' expected after '\"'\n",
      "Skipping line 2006: '\t' expected after '\"'\n",
      "Skipping line 2020: '\t' expected after '\"'\n",
      "Skipping line 2026: '\t' expected after '\"'\n",
      "Skipping line 2030: '\t' expected after '\"'\n",
      "Skipping line 2031: '\t' expected after '\"'\n",
      "Skipping line 2035: '\t' expected after '\"'\n",
      "Skipping line 2037: '\t' expected after '\"'\n",
      "Skipping line 2048: '\t' expected after '\"'\n",
      "Skipping line 2055: '\t' expected after '\"'\n",
      "Skipping line 2072: '\t' expected after '\"'\n",
      "Skipping line 2073: '\t' expected after '\"'\n",
      "Skipping line 2076: '\t' expected after '\"'\n",
      "Skipping line 2080: '\t' expected after '\"'\n",
      "Skipping line 2083: '\t' expected after '\"'\n",
      "Skipping line 2090: '\t' expected after '\"'\n",
      "Skipping line 2094: '\t' expected after '\"'\n",
      "Skipping line 2096: '\t' expected after '\"'\n",
      "Skipping line 2097: '\t' expected after '\"'\n",
      "Skipping line 2099: '\t' expected after '\"'\n",
      "Skipping line 2124: '\t' expected after '\"'\n",
      "Skipping line 2127: '\t' expected after '\"'\n",
      "Skipping line 2194: '\t' expected after '\"'\n",
      "Skipping line 2233: '\t' expected after '\"'\n",
      "Skipping line 2237: '\t' expected after '\"'\n",
      "Skipping line 2247: '\t' expected after '\"'\n",
      "Skipping line 2258: '\t' expected after '\"'\n",
      "Skipping line 2263: '\t' expected after '\"'\n",
      "Skipping line 2289: '\t' expected after '\"'\n",
      "Skipping line 2292: '\t' expected after '\"'\n",
      "Skipping line 2298: '\t' expected after '\"'\n",
      "Skipping line 2305: '\t' expected after '\"'\n",
      "Skipping line 2326: '\t' expected after '\"'\n",
      "Skipping line 2352: '\t' expected after '\"'\n",
      "Skipping line 2365: '\t' expected after '\"'\n",
      "Skipping line 2372: '\t' expected after '\"'\n",
      "Skipping line 2377: '\t' expected after '\"'\n",
      "Skipping line 2392: '\t' expected after '\"'\n",
      "Skipping line 2393: '\t' expected after '\"'\n",
      "Skipping line 2394: '\t' expected after '\"'\n",
      "Skipping line 2409: '\t' expected after '\"'\n",
      "Skipping line 2410: '\t' expected after '\"'\n",
      "Skipping line 2425: '\t' expected after '\"'\n",
      "Skipping line 2447: '\t' expected after '\"'\n",
      "Skipping line 2453: '\t' expected after '\"'\n",
      "Skipping line 2461: '\t' expected after '\"'\n",
      "Skipping line 2473: '\t' expected after '\"'\n",
      "Skipping line 2479: '\t' expected after '\"'\n",
      "Skipping line 2482: '\t' expected after '\"'\n",
      "Skipping line 2488: '\t' expected after '\"'\n",
      "Skipping line 2499: '\t' expected after '\"'\n",
      "Skipping line 2512: '\t' expected after '\"'\n",
      "Skipping line 2517: '\t' expected after '\"'\n",
      "Skipping line 2520: '\t' expected after '\"'\n",
      "Skipping line 2522: '\t' expected after '\"'\n",
      "Skipping line 2528: '\t' expected after '\"'\n",
      "Skipping line 2529: '\t' expected after '\"'\n",
      "Skipping line 2532: '\t' expected after '\"'\n",
      "Skipping line 2533: '\t' expected after '\"'\n",
      "Skipping line 2539: '\t' expected after '\"'\n",
      "Skipping line 2553: '\t' expected after '\"'\n",
      "Skipping line 2559: '\t' expected after '\"'\n",
      "Skipping line 2561: '\t' expected after '\"'\n",
      "Skipping line 2564: '\t' expected after '\"'\n",
      "Skipping line 2571: '\t' expected after '\"'\n",
      "Skipping line 2576: '\t' expected after '\"'\n",
      "Skipping line 2582: '\t' expected after '\"'\n",
      "Skipping line 2583: '\t' expected after '\"'\n",
      "Skipping line 2584: '\t' expected after '\"'\n",
      "Skipping line 2587: '\t' expected after '\"'\n",
      "Skipping line 2607: '\t' expected after '\"'\n",
      "Skipping line 2610: '\t' expected after '\"'\n",
      "Skipping line 2614: '\t' expected after '\"'\n",
      "Skipping line 2622: '\t' expected after '\"'\n",
      "Skipping line 2631: '\t' expected after '\"'\n",
      "Skipping line 2640: '\t' expected after '\"'\n",
      "Skipping line 2647: '\t' expected after '\"'\n",
      "Skipping line 2658: '\t' expected after '\"'\n",
      "Skipping line 2663: '\t' expected after '\"'\n",
      "Skipping line 2664: '\t' expected after '\"'\n",
      "Skipping line 2665: '\t' expected after '\"'\n",
      "Skipping line 2666: '\t' expected after '\"'\n",
      "Skipping line 2671: '\t' expected after '\"'\n",
      "Skipping line 2674: '\t' expected after '\"'\n",
      "Skipping line 2677: '\t' expected after '\"'\n",
      "Skipping line 2683: '\t' expected after '\"'\n",
      "Skipping line 2685: '\t' expected after '\"'\n",
      "Skipping line 2689: '\t' expected after '\"'\n",
      "Skipping line 2695: '\t' expected after '\"'\n",
      "Skipping line 2716: '\t' expected after '\"'\n",
      "Skipping line 2723: '\t' expected after '\"'\n",
      "Skipping line 2729: '\t' expected after '\"'\n",
      "Skipping line 2740: '\t' expected after '\"'\n",
      "Skipping line 2748: '\t' expected after '\"'\n",
      "Skipping line 2776: '\t' expected after '\"'\n",
      "Skipping line 2792: '\t' expected after '\"'\n",
      "Skipping line 2795: '\t' expected after '\"'\n",
      "Skipping line 2803: '\t' expected after '\"'\n",
      "Skipping line 2810: '\t' expected after '\"'\n",
      "Skipping line 2814: '\t' expected after '\"'\n",
      "Skipping line 2820: '\t' expected after '\"'\n",
      "Skipping line 2821: '\t' expected after '\"'\n",
      "Skipping line 2822: '\t' expected after '\"'\n",
      "Skipping line 2827: '\t' expected after '\"'\n",
      "Skipping line 2828: '\t' expected after '\"'\n",
      "Skipping line 2829: '\t' expected after '\"'\n",
      "Skipping line 2834: '\t' expected after '\"'\n",
      "Skipping line 2837: '\t' expected after '\"'\n",
      "Skipping line 2845: '\t' expected after '\"'\n",
      "Skipping line 2847: '\t' expected after '\"'\n",
      "Skipping line 2857: '\t' expected after '\"'\n",
      "Skipping line 2859: '\t' expected after '\"'\n",
      "Skipping line 2861: '\t' expected after '\"'\n",
      "Skipping line 2876: '\t' expected after '\"'\n",
      "Skipping line 2879: '\t' expected after '\"'\n",
      "Skipping line 2884: '\t' expected after '\"'\n",
      "Skipping line 2887: '\t' expected after '\"'\n",
      "Skipping line 2899: '\t' expected after '\"'\n",
      "Skipping line 2908: '\t' expected after '\"'\n",
      "Skipping line 2909: '\t' expected after '\"'\n",
      "Skipping line 2916: '\t' expected after '\"'\n",
      "Skipping line 2917: '\t' expected after '\"'\n",
      "Skipping line 2918: '\t' expected after '\"'\n",
      "Skipping line 2924: '\t' expected after '\"'\n",
      "Skipping line 2936: '\t' expected after '\"'\n",
      "Skipping line 2938: '\t' expected after '\"'\n",
      "Skipping line 2941: '\t' expected after '\"'\n",
      "Skipping line 2946: '\t' expected after '\"'\n",
      "Skipping line 2959: '\t' expected after '\"'\n",
      "Skipping line 2970: '\t' expected after '\"'\n",
      "Skipping line 2979: '\t' expected after '\"'\n",
      "Skipping line 2985: '\t' expected after '\"'\n",
      "Skipping line 3000: '\t' expected after '\"'\n",
      "Skipping line 3001: '\t' expected after '\"'\n",
      "Skipping line 3002: '\t' expected after '\"'\n",
      "Skipping line 3010: '\t' expected after '\"'\n",
      "Skipping line 3017: '\t' expected after '\"'\n",
      "Skipping line 3025: '\t' expected after '\"'\n",
      "Skipping line 3037: '\t' expected after '\"'\n",
      "Skipping line 3045: '\t' expected after '\"'\n",
      "Skipping line 3046: '\t' expected after '\"'\n",
      "Skipping line 3050: '\t' expected after '\"'\n",
      "Skipping line 3051: '\t' expected after '\"'\n",
      "Skipping line 3057: '\t' expected after '\"'\n",
      "Skipping line 3061: '\t' expected after '\"'\n",
      "Skipping line 3064: '\t' expected after '\"'\n",
      "Skipping line 3066: '\t' expected after '\"'\n",
      "Skipping line 3071: '\t' expected after '\"'\n",
      "Skipping line 3077: '\t' expected after '\"'\n",
      "Skipping line 3078: '\t' expected after '\"'\n",
      "Skipping line 3084: '\t' expected after '\"'\n",
      "Skipping line 3092: '\t' expected after '\"'\n",
      "Skipping line 3093: '\t' expected after '\"'\n",
      "Skipping line 3096: '\t' expected after '\"'\n",
      "Skipping line 3097: '\t' expected after '\"'\n",
      "Skipping line 3098: '\t' expected after '\"'\n",
      "Skipping line 3100: '\t' expected after '\"'\n",
      "Skipping line 3103: '\t' expected after '\"'\n",
      "Skipping line 3108: '\t' expected after '\"'\n",
      "Skipping line 3109: '\t' expected after '\"'\n",
      "Skipping line 3118: '\t' expected after '\"'\n",
      "Skipping line 3119: '\t' expected after '\"'\n",
      "Skipping line 3130: '\t' expected after '\"'\n",
      "Skipping line 3134: '\t' expected after '\"'\n",
      "Skipping line 3137: '\t' expected after '\"'\n",
      "Skipping line 3138: '\t' expected after '\"'\n",
      "Skipping line 3139: '\t' expected after '\"'\n",
      "Skipping line 3152: '\t' expected after '\"'\n",
      "Skipping line 3162: '\t' expected after '\"'\n",
      "Skipping line 3164: '\t' expected after '\"'\n",
      "Skipping line 3185: '\t' expected after '\"'\n",
      "Skipping line 3187: '\t' expected after '\"'\n",
      "Skipping line 3188: '\t' expected after '\"'\n",
      "Skipping line 3194: '\t' expected after '\"'\n",
      "Skipping line 3197: '\t' expected after '\"'\n",
      "Skipping line 3205: '\t' expected after '\"'\n",
      "Skipping line 3207: '\t' expected after '\"'\n",
      "Skipping line 3218: '\t' expected after '\"'\n",
      "Skipping line 3225: '\t' expected after '\"'\n",
      "Skipping line 3230: '\t' expected after '\"'\n",
      "Skipping line 3232: '\t' expected after '\"'\n",
      "Skipping line 3244: '\t' expected after '\"'\n",
      "Skipping line 3245: '\t' expected after '\"'\n",
      "Skipping line 3246: '\t' expected after '\"'\n",
      "Skipping line 3249: '\t' expected after '\"'\n",
      "Skipping line 3253: '\t' expected after '\"'\n",
      "Skipping line 3261: '\t' expected after '\"'\n",
      "Skipping line 3270: '\t' expected after '\"'\n",
      "Skipping line 3278: '\t' expected after '\"'\n",
      "Skipping line 3280: '\t' expected after '\"'\n",
      "Skipping line 3283: '\t' expected after '\"'\n",
      "Skipping line 3290: '\t' expected after '\"'\n",
      "Skipping line 3294: '\t' expected after '\"'\n",
      "Skipping line 3297: '\t' expected after '\"'\n",
      "Skipping line 3298: '\t' expected after '\"'\n",
      "Skipping line 3299: '\t' expected after '\"'\n",
      "Skipping line 3305: '\t' expected after '\"'\n",
      "Skipping line 3313: '\t' expected after '\"'\n",
      "Skipping line 3316: '\t' expected after '\"'\n",
      "Skipping line 3327: '\t' expected after '\"'\n",
      "Skipping line 3334: '\t' expected after '\"'\n",
      "Skipping line 3335: '\t' expected after '\"'\n",
      "Skipping line 3336: '\t' expected after '\"'\n",
      "Skipping line 3340: '\t' expected after '\"'\n",
      "Skipping line 3341: '\t' expected after '\"'\n",
      "Skipping line 3351: '\t' expected after '\"'\n",
      "Skipping line 3357: '\t' expected after '\"'\n",
      "Skipping line 3360: '\t' expected after '\"'\n",
      "Skipping line 3361: '\t' expected after '\"'\n",
      "Skipping line 3366: '\t' expected after '\"'\n",
      "Skipping line 3377: '\t' expected after '\"'\n",
      "Skipping line 3384: '\t' expected after '\"'\n",
      "Skipping line 3392: '\t' expected after '\"'\n",
      "Skipping line 3407: '\t' expected after '\"'\n",
      "Skipping line 3414: '\t' expected after '\"'\n",
      "Skipping line 3416: '\t' expected after '\"'\n",
      "Skipping line 3417: '\t' expected after '\"'\n",
      "Skipping line 3426: '\t' expected after '\"'\n",
      "Skipping line 3428: '\t' expected after '\"'\n",
      "Skipping line 3429: '\t' expected after '\"'\n",
      "Skipping line 3434: '\t' expected after '\"'\n",
      "Skipping line 3435: '\t' expected after '\"'\n",
      "Skipping line 3437: '\t' expected after '\"'\n",
      "Skipping line 3701: '\t' expected after '\"'\n",
      "Skipping line 3797: '\t' expected after '\"'\n",
      "Skipping line 4041: '\t' expected after '\"'\n",
      "Skipping line 4140: '\t' expected after '\"'\n",
      "Skipping line 4230: '\t' expected after '\"'\n",
      "Skipping line 4278: '\t' expected after '\"'\n",
      "Skipping line 4418: '\t' expected after '\"'\n",
      "Skipping line 4441: '\t' expected after '\"'\n",
      "Skipping line 4650: '\t' expected after '\"'\n",
      "Skipping line 4673: '\t' expected after '\"'\n",
      "Skipping line 4808: '\t' expected after '\"'\n",
      "Skipping line 5011: '\t' expected after '\"'\n",
      "Skipping line 5336: '\t' expected after '\"'\n",
      "Skipping line 5343: '\t' expected after '\"'\n",
      "Skipping line 5620: '\t' expected after '\"'\n",
      "Skipping line 5650: '\t' expected after '\"'\n"
     ]
    }
   ],
   "source": [
    "sts_train =pd.read_csv('../Data/sts.txt',engine='python',sep='\\t', quotechar='\"',header=0,error_bad_lines=False)"
   ]
  },
  {
   "cell_type": "markdown",
   "metadata": {
    "id": "wVmRWw7t_0ZI"
   },
   "source": [
    "### STS Full preprocessing + normalize semantic similarity score in range (0,1)"
   ]
  },
  {
   "cell_type": "code",
   "execution_count": null,
   "metadata": {
    "colab": {
     "base_uri": "https://localhost:8080/",
     "height": 374
    },
    "id": "_ZfA3eGUjBV4",
    "outputId": "32980093-bb81-4771-b26f-fe0277362bd7"
   },
   "outputs": [
    {
     "name": "stdout",
     "output_type": "stream",
     "text": [
      "a plane is taking off \n",
      "an air plane is taking off \n",
      "a man is playing a large flute \n",
      "a man is playing a flute \n",
      "a man is spreading shreded cheese on a pizza \n",
      "a man is spreading shredded cheese on an uncooked pizza \n",
      "three men are playing chess \n",
      "two men are playing chess \n",
      "a man is playing the cello \n",
      "a man seated is playing the cello \n"
     ]
    },
    {
     "data": {
      "text/html": [
       "<div>\n",
       "<style scoped>\n",
       "    .dataframe tbody tr th:only-of-type {\n",
       "        vertical-align: middle;\n",
       "    }\n",
       "\n",
       "    .dataframe tbody tr th {\n",
       "        vertical-align: top;\n",
       "    }\n",
       "\n",
       "    .dataframe thead th {\n",
       "        text-align: right;\n",
       "    }\n",
       "</style>\n",
       "<table border=\"1\" class=\"dataframe\">\n",
       "  <thead>\n",
       "    <tr style=\"text-align: right;\">\n",
       "      <th></th>\n",
       "      <th>type</th>\n",
       "      <th>subtype</th>\n",
       "      <th>year</th>\n",
       "      <th>id</th>\n",
       "      <th>sim</th>\n",
       "      <th>sent_1</th>\n",
       "      <th>sent_2</th>\n",
       "    </tr>\n",
       "  </thead>\n",
       "  <tbody>\n",
       "    <tr>\n",
       "      <th>0</th>\n",
       "      <td>main-captions</td>\n",
       "      <td>MSRvid</td>\n",
       "      <td>2012test</td>\n",
       "      <td>1</td>\n",
       "      <td>1.00</td>\n",
       "      <td>a plane is taking off</td>\n",
       "      <td>an air plane is taking off</td>\n",
       "    </tr>\n",
       "    <tr>\n",
       "      <th>1</th>\n",
       "      <td>main-captions</td>\n",
       "      <td>MSRvid</td>\n",
       "      <td>2012test</td>\n",
       "      <td>4</td>\n",
       "      <td>0.76</td>\n",
       "      <td>a man is playing a large flute</td>\n",
       "      <td>a man is playing a flute</td>\n",
       "    </tr>\n",
       "    <tr>\n",
       "      <th>2</th>\n",
       "      <td>main-captions</td>\n",
       "      <td>MSRvid</td>\n",
       "      <td>2012test</td>\n",
       "      <td>5</td>\n",
       "      <td>0.76</td>\n",
       "      <td>a man is spreading shreded cheese on a pizza</td>\n",
       "      <td>a man is spreading shredded cheese on an uncoo...</td>\n",
       "    </tr>\n",
       "    <tr>\n",
       "      <th>3</th>\n",
       "      <td>main-captions</td>\n",
       "      <td>MSRvid</td>\n",
       "      <td>2012test</td>\n",
       "      <td>6</td>\n",
       "      <td>0.52</td>\n",
       "      <td>three men are playing chess</td>\n",
       "      <td>two men are playing chess</td>\n",
       "    </tr>\n",
       "    <tr>\n",
       "      <th>4</th>\n",
       "      <td>main-captions</td>\n",
       "      <td>MSRvid</td>\n",
       "      <td>2012test</td>\n",
       "      <td>9</td>\n",
       "      <td>0.85</td>\n",
       "      <td>a man is playing the cello</td>\n",
       "      <td>a man seated is playing the cello</td>\n",
       "    </tr>\n",
       "  </tbody>\n",
       "</table>\n",
       "</div>"
      ],
      "text/plain": [
       "            type  ...                                             sent_2\n",
       "0  main-captions  ...                        an air plane is taking off \n",
       "1  main-captions  ...                          a man is playing a flute \n",
       "2  main-captions  ...  a man is spreading shredded cheese on an uncoo...\n",
       "3  main-captions  ...                         two men are playing chess \n",
       "4  main-captions  ...                 a man seated is playing the cello \n",
       "\n",
       "[5 rows x 7 columns]"
      ]
     },
     "execution_count": 9,
     "metadata": {
      "tags": []
     },
     "output_type": "execute_result"
    }
   ],
   "source": [
    "def preprocess_text(text):\n",
    "    # convert to string\n",
    "    text = str(text)\n",
    "    #lowercase\n",
    "    text = text.lower()\n",
    "    # Clean the text\n",
    "    text = re.sub(r\"won\\'t\", \"will not\", text)\n",
    "    text = re.sub(r\"can\\'t\", \"can not\", text) \n",
    "    text = re.sub(r\"she\\'s\", \"she is\", text)\n",
    "    text = re.sub(r\"it\\'s\", \"it is\", text)\n",
    "    text = re.sub(r\"he\\'s\", \"he is\", text)\n",
    "    text = re.sub(r\"[^A-Za-z0-9^,!.\\/'+-=]\", \" \", text)\n",
    "    text = re.sub(r\"what's\", \"what is \", text)\n",
    "    text = re.sub(r\"\\'s\", \" \", text)\n",
    "    text = re.sub(r\"\\'ve\", \" have \", text)\n",
    "    text = re.sub(r\"can't\", \"cannot \", text)\n",
    "    text = re.sub(r\"n't\", \" not \", text)\n",
    "    text = re.sub(r\"i'm\", \"i am \", text)\n",
    "    text = re.sub(r\"\\'re\", \" are \", text)\n",
    "    text = re.sub(r\"\\'d\", \" would \", text)\n",
    "    text = re.sub(r\"\\'ll\", \" will \", text)\n",
    "    text = re.sub(r\",\", \" \", text)\n",
    "    text = re.sub(r\"\\.\", \" \", text)\n",
    "    text = re.sub(r\"!\", \" ! \", text)\n",
    "    text = re.sub(r\"\\/\", \" \", text)\n",
    "    text = re.sub(r\"\\^\", \" ^ \", text)\n",
    "    text = re.sub(r\"\\+\", \" + \", text)\n",
    "    text = re.sub(r\"\\-\", \" \", text)\n",
    "    text = re.sub(r\"\\=\", \" = \", text)\n",
    "    text = re.sub(r\"\\<\", \"\", text)\n",
    "    text = re.sub(r\"\\>\", \"\", text)\n",
    "    text = re.sub(r\"'\", \" \", text)\n",
    "    text = re.sub(r\"(\\d+)(k)\", r\"\\g<1>000\", text)\n",
    "    text = re.sub(r\":\", \" : \", text)\n",
    "    text = re.sub(r\" e g \", \" eg \", text)\n",
    "    text = re.sub(r\" b g \", \" bg \", text)\n",
    "    text = re.sub(r\" u s \", \" american \", text)\n",
    "    text = re.sub(r\"\\0s\", \"0\", text)\n",
    "    text = re.sub(r\" 9 11 \", \"911\", text)\n",
    "    text = re.sub(r\"e - mail\", \"email\", text)\n",
    "    text = re.sub(r\"j k\", \"jk\", text)\n",
    "    text = re.sub(r\"\\s{2,}\", \" \", text)\n",
    "\n",
    "    tockens = text.split(' ')\n",
    "    # NO stopwords or lemmatization\n",
    "    tockens = [word for word in tockens]\n",
    "    return ' '.join([t for t in tockens])\n",
    "\n",
    "for index, row in sts_train.iterrows():\n",
    "    sts_train.loc[index, \"sent_1\"] = preprocess_text(sts_train.loc[index, \"sent_1\"])\n",
    "    sts_train.loc[index, \"sent_2\"] = preprocess_text(sts_train.loc[index, \"sent_2\"])\n",
    "    if index in [0,1,2,3,4]:\n",
    "        print(sts_train.loc[index, \"sent_1\"])\n",
    "        print(sts_train.loc[index, \"sent_2\"])\n",
    "\n",
    "sts_train[\"sim\"] = sts_train[\"sim\"]/5\n",
    "sts_train.head()"
   ]
  },
  {
   "cell_type": "code",
   "execution_count": null,
   "metadata": {
    "colab": {
     "base_uri": "https://localhost:8080/",
     "height": 312
    },
    "id": "i_Li07qud6Ij",
    "outputId": "01a80557-48b5-4ba3-a80b-06086ef00f4b"
   },
   "outputs": [
    {
     "data": {
      "text/plain": [
       "Text(0.5, 0, 'sim')"
      ]
     },
     "execution_count": 10,
     "metadata": {
      "tags": []
     },
     "output_type": "execute_result"
    },
    {
     "data": {
      "image/png": "[encoded data removed]",
      "text/plain": [
       "<Figure size 432x288 with 1 Axes>"
      ]
     },
     "metadata": {
      "needs_background": "light",
      "tags": []
     },
     "output_type": "display_data"
    }
   ],
   "source": [
    "plt.hist(sts_train.sim,bins='auto',color='b',alpha=0.6,edgecolor='k')\n",
    "plt.title('Similarity score distribution')\n",
    "plt.xlabel('sim')"
   ]
  },
  {
   "cell_type": "markdown",
   "metadata": {
    "id": "ANS8xyrVBJB5"
   },
   "source": [
    "### Applying Li model to data\n",
    "define appropriate value ranges for all the parameters"
   ]
  },
  {
   "cell_type": "code",
   "execution_count": null,
   "metadata": {
    "colab": {
     "base_uri": "https://localhost:8080/"
    },
    "id": "UW2MODQ6dkHa",
    "outputId": "e1df04a1-38ec-49b9-e4ab-31ce22a45f95"
   },
   "outputs": [
    {
     "name": "stderr",
     "output_type": "stream",
     "text": [
      "100%|██████████| 5506/5506 [1:11:30<00:00,  1.28it/s]"
     ]
    },
    {
     "name": "stdout",
     "output_type": "stream",
     "text": [
      "0.5705051600625562\n"
     ]
    },
    {
     "name": "stderr",
     "output_type": "stream",
     "text": [
      "\n"
     ]
    }
   ],
   "source": [
    "ALPHA = 0.2  # \\alpha \\in [0,1] -> parameter scaling the contribution of shortest path length\n",
    "BETA  = 0.45 # \\beta \\in (0,1] -> parameter scaling the contribution of shortest path depth\n",
    "ETA   = 0.4  # word order threshold\n",
    "PHI   = 0.2  # semantic threshold\n",
    "DELTA = 0.85 # Since syntax plays a subordinate role for semantic\n",
    "\n",
    "# initialize model\n",
    "Li_model = Li(ALPHA,BETA,ETA,PHI,DELTA,'STSFull')\n",
    "\n",
    "# test model\n",
    "res_dataframe = Li_model.test_model(sts_train)\n",
    "Li_model_corr = res_dataframe[\"Score_Li\"].corr(sts_train[\"sim\"])\n",
    "print(Li_model_corr)"
   ]
  },
  {
   "cell_type": "code",
   "execution_count": null,
   "metadata": {
    "colab": {
     "base_uri": "https://localhost:8080/",
     "height": 821
    },
    "id": "5U2BbBa76JOG",
    "outputId": "c024fd0f-da24-4641-c65a-7e6daa9d38c2"
   },
   "outputs": [
    {
     "data": {
      "text/plain": [
       "Text(132.0, 0.5, 'STSFull sentence pair index')"
      ]
     },
     "execution_count": 12,
     "metadata": {
      "tags": []
     },
     "output_type": "execute_result"
    },
    {
     "data": {
      "image/png": "[encoded data removed]",
      "text/plain": [
       "<Figure size 1224x936 with 2 Axes>"
      ]
     },
     "metadata": {
      "needs_background": "light",
      "tags": []
     },
     "output_type": "display_data"
    }
   ],
   "source": [
    "#adding the semantic li score\n",
    "sts_train['Li_sem']=res_dataframe[\"Score_sem\"]\n",
    "#adding the word order li score\n",
    "sts_train['Li_ord']=res_dataframe[\"Score_ord\"]\n",
    "#adding final li score\n",
    "sts_train['Li_final']=res_dataframe[\"Score_Li\"]\n",
    "\n",
    "#figure \n",
    "simple_sentences = sts_train.loc[:8,['sim','Li_sem','Li_ord','Li_final']]\n",
    "\n",
    "fig1 = plt.figure(figsize=(17,13))\n",
    "gs = gridspec.GridSpec(1,1)\n",
    "ax={}\n",
    "ax[0]=fig1.add_subplot(gs[0,0])\n",
    "ax[0]=sns.heatmap(simple_sentences, annot=True,\n",
    "                  cmap='viridis',\n",
    "                  linewidths=.5,\n",
    "                  cbar_kws={'label': 'semantic similarity score'})\n",
    "ax[0].tick_params(axis='both', which='major', labelsize=15)\n",
    "ax[0].tick_params(axis='y',rotation=0, labelsize=15)\n",
    "ax[0].set_title(\"Captions (Li model, dataset: STS full)\",fontsize=20)\n",
    "ax[0].set_xlabel(\"Similarity Scores\",fontsize=17)\n",
    "ax[0].set_ylabel(\"STSFull sentence pair index\",fontsize=17)"
   ]
  },
  {
   "cell_type": "code",
   "execution_count": null,
   "metadata": {
    "colab": {
     "base_uri": "https://localhost:8080/"
    },
    "id": "sdZmN4wc93ME",
    "outputId": "24491547-c517-4976-f08d-a9b0606b2536"
   },
   "outputs": [
    {
     "name": "stdout",
     "output_type": "stream",
     "text": [
      "a plane is taking off \n",
      "an air plane is taking off \n",
      "\n",
      "\n",
      "a man is playing a large flute \n",
      "a man is playing a flute \n",
      "\n",
      "\n",
      "a man is spreading shreded cheese on a pizza \n",
      "a man is spreading shredded cheese on an uncooked pizza \n",
      "\n",
      "\n",
      "three men are playing chess \n",
      "two men are playing chess \n",
      "\n",
      "\n",
      "a man is playing the cello \n",
      "a man seated is playing the cello \n",
      "\n",
      "\n",
      "some men are fighting \n",
      "two men are fighting \n",
      "\n",
      "\n",
      "a man is smoking \n",
      "a man is skating \n",
      "\n",
      "\n",
      "the man is playing the piano \n",
      "the man is playing the guitar \n",
      "\n",
      "\n"
     ]
    }
   ],
   "source": [
    "for i in range(8):\n",
    "    print(sts_train.iloc[i,5])\n",
    "    print(sts_train.iloc[i,6])\n",
    "    print(\"\\n\")"
   ]
  },
  {
   "cell_type": "code",
   "execution_count": null,
   "metadata": {
    "colab": {
     "base_uri": "https://localhost:8080/",
     "height": 821
    },
    "id": "0YZNMEGB-92b",
    "outputId": "07825cc8-db1e-45b3-e820-21b8b31251a9"
   },
   "outputs": [
    {
     "data": {
      "text/plain": [
       "Text(132.0, 0.5, 'STSFull sentence pair index')"
      ]
     },
     "execution_count": 14,
     "metadata": {
      "tags": []
     },
     "output_type": "execute_result"
    },
    {
     "data": {
      "image/png": "[encoded data removed]",
      "text/plain": [
       "<Figure size 1224x936 with 2 Axes>"
      ]
     },
     "metadata": {
      "needs_background": "light",
      "tags": []
     },
     "output_type": "display_data"
    }
   ],
   "source": [
    "# forums\n",
    "#figure (forum sentences)\n",
    "forum_sentences = sts_train.loc[1997:2004,['sim','Li_sem','Li_ord','Li_final']]\n",
    "\n",
    "fig1 = plt.figure(figsize=(17,13))\n",
    "gs = gridspec.GridSpec(1,1)\n",
    "ax={}\n",
    "ax[0]=fig1.add_subplot(gs[0,0])\n",
    "#ax[0].pcolor(simple_sentences)\n",
    "ax[0]=sns.heatmap(forum_sentences, annot=True, cmap='viridis',linewidths=.5,cbar_kws={'label': 'semantic similarity score'})\n",
    "ax[0].tick_params(axis='both', which='major', labelsize=15)\n",
    "ax[0].tick_params(axis='y',rotation=0, labelsize=15)\n",
    "ax[0].set_title(\"Forums (Li model, dataset: STS full)\",fontsize=20)\n",
    "ax[0].set_xlabel(\"Similarity Scores\",fontsize=17)\n",
    "ax[0].set_ylabel(\"STSFull sentence pair index\",fontsize=17)"
   ]
  },
  {
   "cell_type": "code",
   "execution_count": null,
   "metadata": {
    "colab": {
     "base_uri": "https://localhost:8080/"
    },
    "id": "vSYdQMUiFyMo",
    "outputId": "cc5f408c-3ccc-464e-f018-f2983ca577f3"
   },
   "outputs": [
    {
     "name": "stdout",
     "output_type": "stream",
     "text": [
      "the problem is simpler than that \n",
      "the problem is simple \n",
      "\n",
      "\n",
      "negative reconnaissance requirements \n",
      "pacific requirements \n",
      "\n",
      "\n",
      "go figure you are asking me to prove a negative \n",
      "you are asking me to prove a negative \n",
      "\n",
      "\n",
      "i am ok with medical use ! \n",
      "i am ok with medical use ! ! \n",
      "\n",
      "\n",
      "the prices for everything you need have gone up due to inflation \n",
      "the prices of everything you own ie assets have gone down \n",
      "\n",
      "\n",
      "war in the middle east \n",
      "a war in the middle east \n",
      "\n",
      "\n",
      "originally posted by vienna how was it authoritarian \n",
      "originally posted by zaf i give up \n",
      "\n",
      "\n",
      "imagine a place that white and black \n",
      "imagine a place with men and women \n",
      "\n",
      "\n"
     ]
    }
   ],
   "source": [
    "for i in range(1997,2005,1):\n",
    "    print(sts_train.iloc[i,5])\n",
    "    print(sts_train.iloc[i,6])\n",
    "    print(\"\\n\")"
   ]
  },
  {
   "cell_type": "code",
   "execution_count": null,
   "metadata": {
    "colab": {
     "base_uri": "https://localhost:8080/",
     "height": 821
    },
    "id": "5PMxigZ0GGfW",
    "outputId": "5b305f5f-fd02-41b2-fb88-d5ce1a1ac956"
   },
   "outputs": [
    {
     "data": {
      "text/plain": [
       "Text(132.0, 0.5, 'STSFull sentence pair index')"
      ]
     },
     "execution_count": 16,
     "metadata": {
      "tags": []
     },
     "output_type": "execute_result"
    },
    {
     "data": {
      "image/png": "[encoded data removed]",
      "text/plain": [
       "<Figure size 1224x936 with 2 Axes>"
      ]
     },
     "metadata": {
      "needs_background": "light",
      "tags": []
     },
     "output_type": "display_data"
    }
   ],
   "source": [
    "#news\n",
    "forum_sentences = sts_train.loc[2402:2409,['sim','Li_sem','Li_ord','Li_final']]\n",
    "\n",
    "fig1 = plt.figure(figsize=(17,13))\n",
    "gs = gridspec.GridSpec(1,1)\n",
    "ax={}\n",
    "ax[0]=fig1.add_subplot(gs[0,0])\n",
    "#ax[0].pcolor(simple_sentences)\n",
    "ax[0]=sns.heatmap(forum_sentences, annot=True, cmap='viridis',linewidths=.5,cbar_kws={'label': 'semantic similarity score'})\n",
    "ax[0].tick_params(axis='both', which='major', labelsize=15)\n",
    "ax[0].tick_params(axis='y',rotation=0, labelsize=15)\n",
    "ax[0].set_title(\"News (Li model, dataset: STS full)\",fontsize=20)\n",
    "ax[0].set_xlabel(\"Similarity Scores\",fontsize=17)\n",
    "ax[0].set_ylabel(\"STSFull sentence pair index\",fontsize=17)"
   ]
  },
  {
   "cell_type": "code",
   "execution_count": null,
   "metadata": {
    "colab": {
     "base_uri": "https://localhost:8080/"
    },
    "id": "4SvhZ6ODHAyf",
    "outputId": "0b1f37b9-462e-4f03-921a-80113c09cc6d"
   },
   "outputs": [
    {
     "name": "stdout",
     "output_type": "stream",
     "text": [
      "the problem likely will mean corrective changes before the shuttle fleet starts flying again \n",
      "he said the problem needs to be corrected before the space shuttle fleet is cleared to fly again \n",
      "\n",
      "\n",
      "myanmar pro democracy leader aung san suu kyi will return home late friday but will remain in detention after recovering from surgery at a yangon hospital her personal physician said \n",
      "myanmar pro democracy leader aung san suu kyi will be kept under house arrest following her release from a hospital where she underwent surgery her personal physician said friday \n",
      "\n",
      "\n",
      "darren dopp a spitzer spokesman declined to comment late thursday \n",
      "john heine a spokesman for the commission in washington declined to comment on mr spitzer criticism \n",
      "\n",
      "\n",
      "in afternoon trading in europe france cac 40 advanced and britain ftse 100 each gained 0 7 percent while germany dax index rose 0 6 percent \n",
      "in europe france cac 40 rose 1 3 percent britain ftse 100 declined 0 2 percent and germany dax index gained 0 6 percent \n",
      "\n",
      "\n",
      "sens john kerry and bob graham declined invitations to speak \n",
      "the no shows were sens john kerry of massachusetts and bob graham of florida \n",
      "\n",
      "\n",
      "page said it is also possible that genes on the y chromosome may influence gender specific differences in disease susceptibility \n",
      "he added that genes on the y might play a role in influencing gender specific differences in disease susceptibility \n",
      "\n",
      "\n",
      "one of the most well studied facets of temperament is how people respond to novelty \n",
      "one of the defining and well studied characteristics of temperament is how people react to novelty \n",
      "\n",
      "\n",
      "but butterflies exposed to an earlier light cycle from 1am to 1pm orientated themselves towards the south east \n",
      "but butterflies housed under an earlier light cycle 1 a m to 1 p m flew toward the southeast \n",
      "\n",
      "\n"
     ]
    }
   ],
   "source": [
    "for i in range(2402,2410,1):\n",
    "    print(sts_train.iloc[i,5])\n",
    "    print(sts_train.iloc[i,6])\n",
    "    print(\"\\n\")"
   ]
  },
  {
   "cell_type": "markdown",
   "metadata": {
    "id": "2UQv5Z_ZWgrc"
   },
   "source": [
    "#Survey dataset"
   ]
  },
  {
   "cell_type": "markdown",
   "metadata": {
    "id": "ci9JLSxQWlHF"
   },
   "source": [
    "## Load data"
   ]
  },
  {
   "cell_type": "code",
   "execution_count": null,
   "metadata": {
    "id": "zQJMqv99WmoO"
   },
   "outputs": [],
   "source": [
    "#load data\n",
    "#-------------------------------------------------------------------------------\n",
    "# dataset survey\n",
    "survey      = pd.read_pickle(\"../Data/survey.pkl\")"
   ]
  },
  {
   "cell_type": "markdown",
   "metadata": {
    "id": "UYC04scnWzZw"
   },
   "source": [
    "## Preprocess data"
   ]
  },
  {
   "cell_type": "code",
   "execution_count": null,
   "metadata": {
    "id": "vYP0DuCyW1WM"
   },
   "outputs": [],
   "source": [
    "for index, row in survey.iterrows():\n",
    "    survey.loc[index, \"sent_1\"] = preprocess_text(survey.loc[index, \"sent_1\"])\n",
    "    survey.loc[index, \"sent_2\"] = preprocess_text(survey.loc[index, \"sent_2\"])"
   ]
  },
  {
   "cell_type": "markdown",
   "metadata": {
    "id": "QLM-jLMYW5Rh"
   },
   "source": [
    "## Apply Li model to Survey"
   ]
  },
  {
   "cell_type": "code",
   "execution_count": null,
   "metadata": {
    "id": "qTnyIQuDW8Y3"
   },
   "outputs": [],
   "source": [
    "ALPHA = 0.2  # \\alpha \\in [0,1] -> parameter scaling the contribution of shortest path length\n",
    "BETA  = 0.45 # \\beta \\in (0,1] -> parameter scaling the contribution of shortest path depth\n",
    "ETA   = 0.4  # word order threshold\n",
    "PHI   = 0.2  # semantic threshold\n",
    "DELTA = 0.85 # Since syntax plays a subordinate role for semantic\n",
    "\n",
    "# initialize model\n",
    "Li_model = Li(ALPHA,BETA,ETA,PHI,DELTA,'survey')\n",
    "\n",
    "# test model\n",
    "res_dataframe = Li_model.test_model(survey)\n",
    "Li_model_corr = res_dataframe[\"Score_Li\"].corr(survey[\"score\"])\n",
    "print(Li_model_corr)"
   ]
  },
  {
   "cell_type": "markdown",
   "metadata": {
    "id": "tKFyVEWh_Ddx"
   },
   "source": [
    "# Additional: Li model parameter grid search (done over STS1)"
   ]
  },
  {
   "cell_type": "markdown",
   "metadata": {
    "id": "pUgajFykrxe3"
   },
   "source": [
    "While a value of $\\delta=0.85$ seems reasonable to quantify the different impact , we test whether different $(\\alpha,\\beta,\\eta,\\phi)$ parameter values can improve the Li model performance. We perform 2 grid searches for the STS1 dataset over best parameter values for the Li model, namely \n",
    "- A grid search over parameters $(\\alpha,\\beta)$ where the parameter space considered is $\\alpha = [0,0.1,0.2,0.3,0.4,0.5,0.6,0.7,0.8,0.9,1]$ and $\\beta = [0.1,0.2,0.3,0.4,0.5,0.6,0.7,0.8,0.9,1]$\n",
    "- A grid search over parameters $(\\eta,\\phi)$ where the parameter space considered is $\\eta = [0,0.1,0.2,0.3,0.4,0.5,0.6,0.7,0.8,0.9,1]$ and $\\phi = [0,0.1,0.2,0.3,0.4,0.5,0.6,0.7,0.8,0.9,1]$\n",
    "\n",
    "**NOTE 1:** This cell taks a long time to complete and might not even finish to be run, depending on colab runtime threshold.\n",
    "\n",
    "**NOTE 2:** While a better parameter grid search should be performed exploring parameter space of all parameters at once, due to the long time required to finish such a grid search here we decided to perform just two \"smaller\" grid searches. In the following we splitted the grid search in different searches varying the parameter values due to colab not allowing more runtime than a certain threshold. Results from these splits are then merged together and shown in a separate colab file."
   ]
  },
  {
   "cell_type": "markdown",
   "metadata": {
    "id": "zl_BVF6jad2c"
   },
   "source": [
    "Grid search over best parameter values $(\\alpha$ and $\\beta)$"
   ]
  },
  {
   "cell_type": "code",
   "execution_count": null,
   "metadata": {
    "id": "tW-tbBlIrZNc"
   },
   "outputs": [],
   "source": [
    "# path length and depth parameters\n",
    "param_res     = 10\n",
    "A             = np.arange(0,1.1,1/param_res) \n",
    "B             = np.arange(0.1,1.1,1/param_res)\n",
    "ALPHAS, BETAS = np.meshgrid(A, B, sparse=False, indexing='ij')\n",
    "ETA           = 0.4  # word order threshold\n",
    "PHI           = 0.2  # semantic threshold\n",
    "DELTA         = 0.85 # Since syntax plays a subordinate role for semantic\n",
    "\n",
    "Li_scores     = np.zeros((len(A),len(B))) #correlation scores\n",
    "\n",
    "for i in range(len(A)):\n",
    "    for j in range(len(B)):\n",
    "        Li_model       = Li(ALPHAS[i,j], BETAS[i,j],ETA,PHI,DELTA,'STS1')\n",
    "        res            = Li_model.test_model(sts1) \n",
    "        Li_scores[i,j] = res[\"Score_Li\"].corr(sts1[\"Score\"])\n",
    "\n",
    "# figure initialization\n",
    "gridsearchAB = plt.figure(figsize=(10,10))\n",
    "gs=gridspec.GridSpec(1,1)\n",
    "ax={}\n",
    "\n",
    "ax[0]=gridsearchAB.add_subplot(gs[0,0])\n",
    "divider = make_axes_locatable(ax[0])\n",
    "cax = divider.append_axes('right', size='5%', pad=0.05)\n",
    "\n",
    "img = ax[0].imshow(Li_scores,origin='lower',cmap='viridis')\n",
    "i,j = np.unravel_index(Li_scores.argmax(), Li_scores.shape)\n",
    "ax[0].scatter(j,i,color='r',marker='x',s=140,label='max$(r)$')\n",
    "ax[0].set_ylabel(r\"$\\alpha$\",rotation=0,fontsize=15,labelpad=10)\n",
    "ax[0].set_xlabel(r\"$\\beta$\",fontsize=15)\n",
    "ax[0].set_xticks([i for i in range(10)])\n",
    "ax[0].set_yticks([i for i in range(11)])\n",
    "ax[0].set_xticklabels([str(round(i,2)) for i in np.arange(0.1,1.1,1/10)])\n",
    "ax[0].set_yticklabels([str(round(i,2)) for i in np.arange(0,1.1,1/10)])\n",
    "ax[0].set_title(r\"Grid search over $(\\alpha,\\beta)$ (other parameters kept fixed)\",fontsize=16)\n",
    "ax[0].legend(loc='best',fontsize=13)\n",
    "\n",
    "# colorbar settings\n",
    "cbar = gridsearchAB.colorbar(img, cax=cax, orientation='vertical')\n",
    "cbar.ax.get_yaxis().labelpad = 15\n",
    "cbar.ax.set_ylabel('Correlation $(r)$', rotation=270,fontsize=15)\n",
    "plt.show()"
   ]
  },
  {
   "cell_type": "markdown",
   "metadata": {
    "id": "4gJcV-hrnT-0"
   },
   "source": [
    "Grid search over best parameter values $(\\phi$ and $\\eta)$"
   ]
  },
  {
   "cell_type": "code",
   "execution_count": null,
   "metadata": {
    "id": "NmGYrxnrnZOi"
   },
   "outputs": [],
   "source": [
    "param_res     = 10\n",
    "P             = np.arange(0,1.1,1/param_res) \n",
    "E             = np.arange(0,1.1,1/param_res)\n",
    "PHIS, ETAS    = np.meshgrid(P, E, sparse=False, indexing='ij')\n",
    "\n",
    "Li_scores     = np.zeros((len(P),len(P))) #correlation scores\n",
    "\n",
    "for i in range(len(P)):\n",
    "    for j in range(len(P)):\n",
    "        Li_model       = Li(ALPHAS[i,j], BETAS[i,j],ETA,PHI,DELTA,'STS1')\n",
    "        res            = Li_model.test_model(data) \n",
    "        Li_scores[i,j] = res[\"Score_Li\"].corr(data[\"Score\"])\n",
    "\n",
    "# plot\n",
    "# figure initialization\n",
    "gridsearchEP = plt.figure(figsize=(10,10))\n",
    "gs=gridspec.GridSpec(1,1)\n",
    "ax={}\n",
    "\n",
    "ax[0]=gridsearchEP.add_subplot(gs[0,0])\n",
    "divider = make_axes_locatable(ax[0])\n",
    "cax = divider.append_axes('right', size='5%', pad=0.05)\n",
    "\n",
    "img = ax[0].imshow(Li_scores,origin='lower',cmap='viridis')\n",
    "i,j = np.unravel_index(Li_scores.argmax(), Li_scores.shape)\n",
    "ax[0].scatter(j,i,color='r',marker='x',s=140,label='max$(r)$')\n",
    "ax[0].set_ylabel(r\"$\\eta$\",rotation=0,fontsize=15,labelpad=10)\n",
    "ax[0].set_xlabel(r\"$\\phi$\",fontsize=15)\n",
    "ax[0].set_xticks([i for i in range(11)])\n",
    "ax[0].set_yticks([i for i in range(11)])\n",
    "ax[0].legend(loc='best',fontsize=13)\n",
    "ax[0].set_xticklabels([str(round(i,2)) for i in np.arange(0,1.1,1/10)])\n",
    "ax[0].set_yticklabels([str(round(i,2)) for i in np.arange(0,1.1,1/10)])\n",
    "ax[0].set_title(r\"Grid search over $(\\eta,\\phi)$ (other parameters kept fixed)\",fontsize=16)\n",
    "# colorbar settings\n",
    "cbar = gridsearchAB.colorbar(img, cax=cax, orientation='vertical')\n",
    "cbar.ax.get_yaxis().labelpad = 15\n",
    "cbar.ax.set_ylabel('Correlation $(r)$', rotation=270,fontsize=15)\n",
    "plt.show()"
   ]
  }
 ],
 "metadata": {
  "colab": {
   "collapsed_sections": [],
   "name": "apply_model_Li.ipynb",
   "provenance": [],
   "toc_visible": true
  },
  "kernelspec": {
   "display_name": "Python 3",
   "language": "python",
   "name": "python3"
  },
  "language_info": {
   "codemirror_mode": {
    "name": "ipython",
    "version": 3
   },
   "file_extension": ".py",
   "mimetype": "text/x-python",
   "name": "python",
   "nbconvert_exporter": "python",
   "pygments_lexer": "ipython3",
   "version": "3.8.5"
  }
 },
 "nbformat": 4,
 "nbformat_minor": 4
}
