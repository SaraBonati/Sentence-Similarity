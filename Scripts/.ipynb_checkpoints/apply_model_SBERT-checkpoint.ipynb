{
 "cells": [
  {
   "cell_type": "markdown",
   "metadata": {
    "id": "WbOqosmRwNra"
   },
   "source": [
    "# NLP sentence similarity project\n",
    "### Group: Sara Bonati - Irina Kokoshko\n",
    "\n",
    "This notebook applies different SentenceBert models to sentence data taken from 3 different datasets:\n",
    "\n",
    "\n",
    "*   A subset of news sentence pairs from the STS benchmark, which we refer to as STS1\n",
    "*   A bigger subset from the STS benchmark containing sentence pairs from news/captions/internet forums from 2012 to 2017, which we refer to as STSFull\n",
    "*   Semantically ambiguous sentence pairs used in a survey online, which we refer to as Survey\n"
   ]
  },
  {
   "cell_type": "code",
   "execution_count": null,
   "metadata": {
    "colab": {
     "base_uri": "https://localhost:8080/"
    },
    "executionInfo": {
     "elapsed": 20330,
     "status": "ok",
     "timestamp": 1613904780892,
     "user": {
      "displayName": "Sara Bonati",
      "photoUrl": "https://lh3.googleusercontent.com/a-/AOh14GhP7RR9bSO8ueBfRjNzuMdelA6_UOkOGo2DDY7OrA=s64",
      "userId": "09881996973668689480"
     },
     "user_tz": -60
    },
    "id": "uhucWvPKRUwq",
    "outputId": "28f1a367-027c-425b-e357-34ca955a9fa3"
   },
   "outputs": [
    {
     "name": "stdout",
     "output_type": "stream",
     "text": [
      "Requirement already satisfied: nltk in /usr/local/lib/python3.6/dist-packages (3.2.5)\n",
      "Requirement already satisfied: six in /usr/local/lib/python3.6/dist-packages (from nltk) (1.15.0)\n",
      "[nltk_data] Downloading package punkt to /root/nltk_data...\n",
      "[nltk_data]   Unzipping tokenizers/punkt.zip.\n",
      "[nltk_data] Downloading package wordnet to /root/nltk_data...\n",
      "[nltk_data]   Unzipping corpora/wordnet.zip.\n",
      "[nltk_data] Downloading package stopwords to /root/nltk_data...\n",
      "[nltk_data]   Unzipping corpora/stopwords.zip.\n",
      "Collecting sentence-transformers\n",
      "\u001b[?25l  Downloading https://files.pythonhosted.org/packages/6a/e2/84d6acfcee2d83164149778a33b6bdd1a74e1bcb59b2b2cd1b861359b339/sentence-transformers-0.4.1.2.tar.gz (64kB)\n",
      "\u001b[K     |████████████████████████████████| 71kB 3.7MB/s \n",
      "\u001b[?25hCollecting transformers<5.0.0,>=3.1.0\n",
      "\u001b[?25l  Downloading https://files.pythonhosted.org/packages/98/87/ef312eef26f5cecd8b17ae9654cdd8d1fae1eb6dbd87257d6d73c128a4d0/transformers-4.3.2-py3-none-any.whl (1.8MB)\n",
      "\u001b[K     |████████████████████████████████| 1.8MB 7.7MB/s \n",
      "\u001b[?25hRequirement already satisfied, skipping upgrade: tqdm in /usr/local/lib/python3.6/dist-packages (from sentence-transformers) (4.41.1)\n",
      "Requirement already satisfied, skipping upgrade: torch>=1.6.0 in /usr/local/lib/python3.6/dist-packages (from sentence-transformers) (1.7.0+cu101)\n",
      "Requirement already satisfied, skipping upgrade: numpy in /usr/local/lib/python3.6/dist-packages (from sentence-transformers) (1.19.5)\n",
      "Requirement already satisfied, skipping upgrade: scikit-learn in /usr/local/lib/python3.6/dist-packages (from sentence-transformers) (0.22.2.post1)\n",
      "Requirement already satisfied, skipping upgrade: scipy in /usr/local/lib/python3.6/dist-packages (from sentence-transformers) (1.4.1)\n",
      "Requirement already satisfied, skipping upgrade: nltk in /usr/local/lib/python3.6/dist-packages (from sentence-transformers) (3.2.5)\n",
      "Collecting sentencepiece\n",
      "\u001b[?25l  Downloading https://files.pythonhosted.org/packages/14/67/e42bd1181472c95c8cda79305df848264f2a7f62740995a46945d9797b67/sentencepiece-0.1.95-cp36-cp36m-manylinux2014_x86_64.whl (1.2MB)\n",
      "\u001b[K     |████████████████████████████████| 1.2MB 44.0MB/s \n",
      "\u001b[?25hRequirement already satisfied, skipping upgrade: requests in /usr/local/lib/python3.6/dist-packages (from transformers<5.0.0,>=3.1.0->sentence-transformers) (2.23.0)\n",
      "Requirement already satisfied, skipping upgrade: packaging in /usr/local/lib/python3.6/dist-packages (from transformers<5.0.0,>=3.1.0->sentence-transformers) (20.9)\n",
      "Collecting tokenizers<0.11,>=0.10.1\n",
      "\u001b[?25l  Downloading https://files.pythonhosted.org/packages/fd/5b/44baae602e0a30bcc53fbdbc60bd940c15e143d252d658dfdefce736ece5/tokenizers-0.10.1-cp36-cp36m-manylinux2010_x86_64.whl (3.2MB)\n",
      "\u001b[K     |████████████████████████████████| 3.2MB 15.4MB/s \n",
      "\u001b[?25hRequirement already satisfied, skipping upgrade: regex!=2019.12.17 in /usr/local/lib/python3.6/dist-packages (from transformers<5.0.0,>=3.1.0->sentence-transformers) (2019.12.20)\n",
      "Requirement already satisfied, skipping upgrade: filelock in /usr/local/lib/python3.6/dist-packages (from transformers<5.0.0,>=3.1.0->sentence-transformers) (3.0.12)\n",
      "Requirement already satisfied, skipping upgrade: importlib-metadata; python_version < \"3.8\" in /usr/local/lib/python3.6/dist-packages (from transformers<5.0.0,>=3.1.0->sentence-transformers) (3.4.0)\n",
      "Collecting sacremoses\n",
      "\u001b[?25l  Downloading https://files.pythonhosted.org/packages/7d/34/09d19aff26edcc8eb2a01bed8e98f13a1537005d31e95233fd48216eed10/sacremoses-0.0.43.tar.gz (883kB)\n",
      "\u001b[K     |████████████████████████████████| 890kB 50.1MB/s \n",
      "\u001b[?25hRequirement already satisfied, skipping upgrade: dataclasses; python_version < \"3.7\" in /usr/local/lib/python3.6/dist-packages (from transformers<5.0.0,>=3.1.0->sentence-transformers) (0.8)\n",
      "Requirement already satisfied, skipping upgrade: future in /usr/local/lib/python3.6/dist-packages (from torch>=1.6.0->sentence-transformers) (0.16.0)\n",
      "Requirement already satisfied, skipping upgrade: typing-extensions in /usr/local/lib/python3.6/dist-packages (from torch>=1.6.0->sentence-transformers) (3.7.4.3)\n",
      "Requirement already satisfied, skipping upgrade: joblib>=0.11 in /usr/local/lib/python3.6/dist-packages (from scikit-learn->sentence-transformers) (1.0.0)\n",
      "Requirement already satisfied, skipping upgrade: six in /usr/local/lib/python3.6/dist-packages (from nltk->sentence-transformers) (1.15.0)\n",
      "Requirement already satisfied, skipping upgrade: urllib3!=1.25.0,!=1.25.1,<1.26,>=1.21.1 in /usr/local/lib/python3.6/dist-packages (from requests->transformers<5.0.0,>=3.1.0->sentence-transformers) (1.24.3)\n",
      "Requirement already satisfied, skipping upgrade: idna<3,>=2.5 in /usr/local/lib/python3.6/dist-packages (from requests->transformers<5.0.0,>=3.1.0->sentence-transformers) (2.10)\n",
      "Requirement already satisfied, skipping upgrade: chardet<4,>=3.0.2 in /usr/local/lib/python3.6/dist-packages (from requests->transformers<5.0.0,>=3.1.0->sentence-transformers) (3.0.4)\n",
      "Requirement already satisfied, skipping upgrade: certifi>=2017.4.17 in /usr/local/lib/python3.6/dist-packages (from requests->transformers<5.0.0,>=3.1.0->sentence-transformers) (2020.12.5)\n",
      "Requirement already satisfied, skipping upgrade: pyparsing>=2.0.2 in /usr/local/lib/python3.6/dist-packages (from packaging->transformers<5.0.0,>=3.1.0->sentence-transformers) (2.4.7)\n",
      "Requirement already satisfied, skipping upgrade: zipp>=0.5 in /usr/local/lib/python3.6/dist-packages (from importlib-metadata; python_version < \"3.8\"->transformers<5.0.0,>=3.1.0->sentence-transformers) (3.4.0)\n",
      "Requirement already satisfied, skipping upgrade: click in /usr/local/lib/python3.6/dist-packages (from sacremoses->transformers<5.0.0,>=3.1.0->sentence-transformers) (7.1.2)\n",
      "Building wheels for collected packages: sentence-transformers, sacremoses\n",
      "  Building wheel for sentence-transformers (setup.py) ... \u001b[?25l\u001b[?25hdone\n",
      "  Created wheel for sentence-transformers: filename=sentence_transformers-0.4.1.2-cp36-none-any.whl size=103068 sha256=00a7bf7549e12aac5859d66d20084d0c296570a158ff8e11577a0708925cab6f\n",
      "  Stored in directory: /root/.cache/pip/wheels/3d/33/d1/5703dd56199c09d4a1b41e0c07fb4e7765a84d787cbdc48ac3\n",
      "  Building wheel for sacremoses (setup.py) ... \u001b[?25l\u001b[?25hdone\n",
      "  Created wheel for sacremoses: filename=sacremoses-0.0.43-cp36-none-any.whl size=893261 sha256=fb22162465fae30cb3ede90147274a03a72abd479e939e002bcc1e7b41217c38\n",
      "  Stored in directory: /root/.cache/pip/wheels/29/3c/fd/7ce5c3f0666dab31a50123635e6fb5e19ceb42ce38d4e58f45\n",
      "Successfully built sentence-transformers sacremoses\n",
      "Installing collected packages: tokenizers, sacremoses, transformers, sentencepiece, sentence-transformers\n",
      "Successfully installed sacremoses-0.0.43 sentence-transformers-0.4.1.2 sentencepiece-0.1.95 tokenizers-0.10.1 transformers-4.3.2\n"
     ]
    }
   ],
   "source": [
    "# general utility import\n",
    "import numpy as np\n",
    "import matplotlib.pyplot as plt\n",
    "%matplotlib inline\n",
    "import matplotlib.gridspec as gridspec\n",
    "import pickle\n",
    "import math\n",
    "import pandas as pd\n",
    "import sys,io,pprint\n",
    "import re\n",
    "\n",
    "from functools import partial\n",
    "from tqdm import tqdm\n",
    "tqdm = partial(tqdm, position=0, leave=True)\n",
    "\n",
    "# nltk\n",
    "from __future__ import division\n",
    "!pip install nltk\n",
    "import nltk\n",
    "nltk.download('punkt')\n",
    "nltk.download('wordnet')\n",
    "nltk.download('stopwords')\n",
    "from nltk.corpus import wordnet as wn, stopwords\n",
    "from nltk.corpus import brown, gutenberg\n",
    "from nltk.stem import WordNetLemmatizer\n",
    "from nltk.data import find\n",
    "\n",
    "!pip install -U sentence-transformers\n",
    "from sentence_transformers import SentenceTransformer, util"
   ]
  },
  {
   "cell_type": "markdown",
   "metadata": {
    "id": "M9H7hkBowlzY"
   },
   "source": [
    "### Load the data (STS1 and STSFull and Survey) + preprocessing and similarity score normalization"
   ]
  },
  {
   "cell_type": "code",
   "execution_count": null,
   "metadata": {
    "colab": {
     "base_uri": "https://localhost:8080/"
    },
    "executionInfo": {
     "elapsed": 28310,
     "status": "ok",
     "timestamp": 1613904788939,
     "user": {
      "displayName": "Sara Bonati",
      "photoUrl": "https://lh3.googleusercontent.com/a-/AOh14GhP7RR9bSO8ueBfRjNzuMdelA6_UOkOGo2DDY7OrA=s64",
      "userId": "09881996973668689480"
     },
     "user_tz": -60
    },
    "id": "fIjcjP5gUl2V",
    "outputId": "488c39af-c843-448b-8f37-61455089d4e0"
   },
   "outputs": [
    {
     "name": "stderr",
     "output_type": "stream",
     "text": [
      "Skipping line 1525: '\t' expected after '\"'\n",
      "Skipping line 1542: '\t' expected after '\"'\n",
      "Skipping line 1614: '\t' expected after '\"'\n",
      "Skipping line 2002: '\t' expected after '\"'\n",
      "Skipping line 2003: '\t' expected after '\"'\n",
      "Skipping line 2006: '\t' expected after '\"'\n",
      "Skipping line 2020: '\t' expected after '\"'\n",
      "Skipping line 2026: '\t' expected after '\"'\n",
      "Skipping line 2030: '\t' expected after '\"'\n",
      "Skipping line 2031: '\t' expected after '\"'\n",
      "Skipping line 2035: '\t' expected after '\"'\n",
      "Skipping line 2037: '\t' expected after '\"'\n",
      "Skipping line 2048: '\t' expected after '\"'\n",
      "Skipping line 2055: '\t' expected after '\"'\n",
      "Skipping line 2072: '\t' expected after '\"'\n",
      "Skipping line 2073: '\t' expected after '\"'\n",
      "Skipping line 2076: '\t' expected after '\"'\n",
      "Skipping line 2080: '\t' expected after '\"'\n",
      "Skipping line 2083: '\t' expected after '\"'\n",
      "Skipping line 2090: '\t' expected after '\"'\n",
      "Skipping line 2094: '\t' expected after '\"'\n",
      "Skipping line 2096: '\t' expected after '\"'\n",
      "Skipping line 2097: '\t' expected after '\"'\n",
      "Skipping line 2099: '\t' expected after '\"'\n",
      "Skipping line 2124: '\t' expected after '\"'\n",
      "Skipping line 2127: '\t' expected after '\"'\n",
      "Skipping line 2194: '\t' expected after '\"'\n",
      "Skipping line 2233: '\t' expected after '\"'\n",
      "Skipping line 2237: '\t' expected after '\"'\n",
      "Skipping line 2247: '\t' expected after '\"'\n",
      "Skipping line 2258: '\t' expected after '\"'\n",
      "Skipping line 2263: '\t' expected after '\"'\n",
      "Skipping line 2289: '\t' expected after '\"'\n",
      "Skipping line 2292: '\t' expected after '\"'\n",
      "Skipping line 2298: '\t' expected after '\"'\n",
      "Skipping line 2305: '\t' expected after '\"'\n",
      "Skipping line 2326: '\t' expected after '\"'\n",
      "Skipping line 2352: '\t' expected after '\"'\n",
      "Skipping line 2365: '\t' expected after '\"'\n",
      "Skipping line 2372: '\t' expected after '\"'\n",
      "Skipping line 2377: '\t' expected after '\"'\n",
      "Skipping line 2392: '\t' expected after '\"'\n",
      "Skipping line 2393: '\t' expected after '\"'\n",
      "Skipping line 2394: '\t' expected after '\"'\n",
      "Skipping line 2409: '\t' expected after '\"'\n",
      "Skipping line 2410: '\t' expected after '\"'\n",
      "Skipping line 2425: '\t' expected after '\"'\n",
      "Skipping line 2447: '\t' expected after '\"'\n",
      "Skipping line 2453: '\t' expected after '\"'\n",
      "Skipping line 2461: '\t' expected after '\"'\n",
      "Skipping line 2473: '\t' expected after '\"'\n",
      "Skipping line 2479: '\t' expected after '\"'\n",
      "Skipping line 2482: '\t' expected after '\"'\n",
      "Skipping line 2488: '\t' expected after '\"'\n",
      "Skipping line 2499: '\t' expected after '\"'\n",
      "Skipping line 2512: '\t' expected after '\"'\n",
      "Skipping line 2517: '\t' expected after '\"'\n",
      "Skipping line 2520: '\t' expected after '\"'\n",
      "Skipping line 2522: '\t' expected after '\"'\n",
      "Skipping line 2528: '\t' expected after '\"'\n",
      "Skipping line 2529: '\t' expected after '\"'\n",
      "Skipping line 2532: '\t' expected after '\"'\n",
      "Skipping line 2533: '\t' expected after '\"'\n",
      "Skipping line 2539: '\t' expected after '\"'\n",
      "Skipping line 2553: '\t' expected after '\"'\n",
      "Skipping line 2559: '\t' expected after '\"'\n",
      "Skipping line 2561: '\t' expected after '\"'\n",
      "Skipping line 2564: '\t' expected after '\"'\n",
      "Skipping line 2571: '\t' expected after '\"'\n",
      "Skipping line 2576: '\t' expected after '\"'\n",
      "Skipping line 2582: '\t' expected after '\"'\n",
      "Skipping line 2583: '\t' expected after '\"'\n",
      "Skipping line 2584: '\t' expected after '\"'\n",
      "Skipping line 2587: '\t' expected after '\"'\n",
      "Skipping line 2607: '\t' expected after '\"'\n",
      "Skipping line 2610: '\t' expected after '\"'\n",
      "Skipping line 2614: '\t' expected after '\"'\n",
      "Skipping line 2622: '\t' expected after '\"'\n",
      "Skipping line 2631: '\t' expected after '\"'\n",
      "Skipping line 2640: '\t' expected after '\"'\n",
      "Skipping line 2647: '\t' expected after '\"'\n",
      "Skipping line 2658: '\t' expected after '\"'\n",
      "Skipping line 2663: '\t' expected after '\"'\n",
      "Skipping line 2664: '\t' expected after '\"'\n",
      "Skipping line 2665: '\t' expected after '\"'\n",
      "Skipping line 2666: '\t' expected after '\"'\n",
      "Skipping line 2671: '\t' expected after '\"'\n",
      "Skipping line 2674: '\t' expected after '\"'\n",
      "Skipping line 2677: '\t' expected after '\"'\n",
      "Skipping line 2683: '\t' expected after '\"'\n",
      "Skipping line 2685: '\t' expected after '\"'\n",
      "Skipping line 2689: '\t' expected after '\"'\n",
      "Skipping line 2695: '\t' expected after '\"'\n",
      "Skipping line 2716: '\t' expected after '\"'\n",
      "Skipping line 2723: '\t' expected after '\"'\n",
      "Skipping line 2729: '\t' expected after '\"'\n",
      "Skipping line 2740: '\t' expected after '\"'\n",
      "Skipping line 2748: '\t' expected after '\"'\n",
      "Skipping line 2776: '\t' expected after '\"'\n",
      "Skipping line 2792: '\t' expected after '\"'\n",
      "Skipping line 2795: '\t' expected after '\"'\n",
      "Skipping line 2803: '\t' expected after '\"'\n",
      "Skipping line 2810: '\t' expected after '\"'\n",
      "Skipping line 2814: '\t' expected after '\"'\n",
      "Skipping line 2820: '\t' expected after '\"'\n",
      "Skipping line 2821: '\t' expected after '\"'\n",
      "Skipping line 2822: '\t' expected after '\"'\n",
      "Skipping line 2827: '\t' expected after '\"'\n",
      "Skipping line 2828: '\t' expected after '\"'\n",
      "Skipping line 2829: '\t' expected after '\"'\n",
      "Skipping line 2834: '\t' expected after '\"'\n",
      "Skipping line 2837: '\t' expected after '\"'\n",
      "Skipping line 2845: '\t' expected after '\"'\n",
      "Skipping line 2847: '\t' expected after '\"'\n",
      "Skipping line 2857: '\t' expected after '\"'\n",
      "Skipping line 2859: '\t' expected after '\"'\n",
      "Skipping line 2861: '\t' expected after '\"'\n",
      "Skipping line 2876: '\t' expected after '\"'\n",
      "Skipping line 2879: '\t' expected after '\"'\n",
      "Skipping line 2884: '\t' expected after '\"'\n",
      "Skipping line 2887: '\t' expected after '\"'\n",
      "Skipping line 2899: '\t' expected after '\"'\n",
      "Skipping line 2908: '\t' expected after '\"'\n",
      "Skipping line 2909: '\t' expected after '\"'\n",
      "Skipping line 2916: '\t' expected after '\"'\n",
      "Skipping line 2917: '\t' expected after '\"'\n",
      "Skipping line 2918: '\t' expected after '\"'\n",
      "Skipping line 2924: '\t' expected after '\"'\n",
      "Skipping line 2936: '\t' expected after '\"'\n",
      "Skipping line 2938: '\t' expected after '\"'\n",
      "Skipping line 2941: '\t' expected after '\"'\n",
      "Skipping line 2946: '\t' expected after '\"'\n",
      "Skipping line 2959: '\t' expected after '\"'\n",
      "Skipping line 2970: '\t' expected after '\"'\n",
      "Skipping line 2979: '\t' expected after '\"'\n",
      "Skipping line 2985: '\t' expected after '\"'\n",
      "Skipping line 3000: '\t' expected after '\"'\n",
      "Skipping line 3001: '\t' expected after '\"'\n",
      "Skipping line 3002: '\t' expected after '\"'\n",
      "Skipping line 3010: '\t' expected after '\"'\n",
      "Skipping line 3017: '\t' expected after '\"'\n",
      "Skipping line 3025: '\t' expected after '\"'\n",
      "Skipping line 3037: '\t' expected after '\"'\n",
      "Skipping line 3045: '\t' expected after '\"'\n",
      "Skipping line 3046: '\t' expected after '\"'\n",
      "Skipping line 3050: '\t' expected after '\"'\n",
      "Skipping line 3051: '\t' expected after '\"'\n",
      "Skipping line 3057: '\t' expected after '\"'\n",
      "Skipping line 3061: '\t' expected after '\"'\n",
      "Skipping line 3064: '\t' expected after '\"'\n",
      "Skipping line 3066: '\t' expected after '\"'\n",
      "Skipping line 3071: '\t' expected after '\"'\n",
      "Skipping line 3077: '\t' expected after '\"'\n",
      "Skipping line 3078: '\t' expected after '\"'\n",
      "Skipping line 3084: '\t' expected after '\"'\n",
      "Skipping line 3092: '\t' expected after '\"'\n",
      "Skipping line 3093: '\t' expected after '\"'\n",
      "Skipping line 3096: '\t' expected after '\"'\n",
      "Skipping line 3097: '\t' expected after '\"'\n",
      "Skipping line 3098: '\t' expected after '\"'\n",
      "Skipping line 3100: '\t' expected after '\"'\n",
      "Skipping line 3103: '\t' expected after '\"'\n",
      "Skipping line 3108: '\t' expected after '\"'\n",
      "Skipping line 3109: '\t' expected after '\"'\n",
      "Skipping line 3118: '\t' expected after '\"'\n",
      "Skipping line 3119: '\t' expected after '\"'\n",
      "Skipping line 3130: '\t' expected after '\"'\n",
      "Skipping line 3134: '\t' expected after '\"'\n",
      "Skipping line 3137: '\t' expected after '\"'\n",
      "Skipping line 3138: '\t' expected after '\"'\n",
      "Skipping line 3139: '\t' expected after '\"'\n",
      "Skipping line 3152: '\t' expected after '\"'\n",
      "Skipping line 3162: '\t' expected after '\"'\n",
      "Skipping line 3164: '\t' expected after '\"'\n",
      "Skipping line 3185: '\t' expected after '\"'\n",
      "Skipping line 3187: '\t' expected after '\"'\n",
      "Skipping line 3188: '\t' expected after '\"'\n",
      "Skipping line 3194: '\t' expected after '\"'\n",
      "Skipping line 3197: '\t' expected after '\"'\n",
      "Skipping line 3205: '\t' expected after '\"'\n",
      "Skipping line 3207: '\t' expected after '\"'\n",
      "Skipping line 3218: '\t' expected after '\"'\n",
      "Skipping line 3225: '\t' expected after '\"'\n",
      "Skipping line 3230: '\t' expected after '\"'\n",
      "Skipping line 3232: '\t' expected after '\"'\n",
      "Skipping line 3244: '\t' expected after '\"'\n",
      "Skipping line 3245: '\t' expected after '\"'\n",
      "Skipping line 3246: '\t' expected after '\"'\n",
      "Skipping line 3249: '\t' expected after '\"'\n",
      "Skipping line 3253: '\t' expected after '\"'\n",
      "Skipping line 3261: '\t' expected after '\"'\n",
      "Skipping line 3270: '\t' expected after '\"'\n",
      "Skipping line 3278: '\t' expected after '\"'\n",
      "Skipping line 3280: '\t' expected after '\"'\n",
      "Skipping line 3283: '\t' expected after '\"'\n",
      "Skipping line 3290: '\t' expected after '\"'\n",
      "Skipping line 3294: '\t' expected after '\"'\n",
      "Skipping line 3297: '\t' expected after '\"'\n",
      "Skipping line 3298: '\t' expected after '\"'\n",
      "Skipping line 3299: '\t' expected after '\"'\n",
      "Skipping line 3305: '\t' expected after '\"'\n",
      "Skipping line 3313: '\t' expected after '\"'\n",
      "Skipping line 3316: '\t' expected after '\"'\n",
      "Skipping line 3327: '\t' expected after '\"'\n",
      "Skipping line 3334: '\t' expected after '\"'\n",
      "Skipping line 3335: '\t' expected after '\"'\n",
      "Skipping line 3336: '\t' expected after '\"'\n",
      "Skipping line 3340: '\t' expected after '\"'\n",
      "Skipping line 3341: '\t' expected after '\"'\n",
      "Skipping line 3351: '\t' expected after '\"'\n",
      "Skipping line 3357: '\t' expected after '\"'\n",
      "Skipping line 3360: '\t' expected after '\"'\n",
      "Skipping line 3361: '\t' expected after '\"'\n",
      "Skipping line 3366: '\t' expected after '\"'\n",
      "Skipping line 3377: '\t' expected after '\"'\n",
      "Skipping line 3384: '\t' expected after '\"'\n",
      "Skipping line 3392: '\t' expected after '\"'\n",
      "Skipping line 3407: '\t' expected after '\"'\n",
      "Skipping line 3414: '\t' expected after '\"'\n",
      "Skipping line 3416: '\t' expected after '\"'\n",
      "Skipping line 3417: '\t' expected after '\"'\n",
      "Skipping line 3426: '\t' expected after '\"'\n",
      "Skipping line 3428: '\t' expected after '\"'\n",
      "Skipping line 3429: '\t' expected after '\"'\n",
      "Skipping line 3434: '\t' expected after '\"'\n",
      "Skipping line 3435: '\t' expected after '\"'\n",
      "Skipping line 3437: '\t' expected after '\"'\n",
      "Skipping line 3701: '\t' expected after '\"'\n",
      "Skipping line 3797: '\t' expected after '\"'\n",
      "Skipping line 4041: '\t' expected after '\"'\n",
      "Skipping line 4140: '\t' expected after '\"'\n",
      "Skipping line 4230: '\t' expected after '\"'\n",
      "Skipping line 4278: '\t' expected after '\"'\n",
      "Skipping line 4418: '\t' expected after '\"'\n",
      "Skipping line 4441: '\t' expected after '\"'\n",
      "Skipping line 4650: '\t' expected after '\"'\n",
      "Skipping line 4673: '\t' expected after '\"'\n",
      "Skipping line 4808: '\t' expected after '\"'\n",
      "Skipping line 5011: '\t' expected after '\"'\n",
      "Skipping line 5336: '\t' expected after '\"'\n",
      "Skipping line 5343: '\t' expected after '\"'\n",
      "Skipping line 5620: '\t' expected after '\"'\n",
      "Skipping line 5650: '\t' expected after '\"'\n"
     ]
    }
   ],
   "source": [
    "#load data\n",
    "#-------------------------------------------------------------------------------\n",
    "# dataset STS 1\n",
    "sts1      = pd.read_pickle(\"../Data/sentences_shorter.pkl\")\n",
    "# dataset STS full\n",
    "stsfull   = pd.read_csv('../Data/sts.txt',engine='python',sep='\\t', quotechar='\"',header=0,error_bad_lines=False)\n",
    "# dataset survey\n",
    "survey    = pd.read_pickle(\"../Data/survey.pkl\")\n",
    "\n",
    "#preprocessing function\n",
    "#-------------------------------------------------------------------------------\n",
    "def preprocess_text(text):\n",
    "    # convert to string\n",
    "    text = str(text)\n",
    "    #lowercase\n",
    "    text = text.lower()\n",
    "    # Clean the text\n",
    "    text = re.sub(r\"won\\'t\", \"will not\", text)\n",
    "    text = re.sub(r\"can\\'t\", \"can not\", text)\n",
    "    text = re.sub(r\"she\\'s\", \"she is\", text)\n",
    "    text = re.sub(r\"it\\'s\", \"it is\", text)\n",
    "    text = re.sub(r\"he\\'s\", \"he is\", text)\n",
    "    text = re.sub(r\"[^A-Za-z0-9^,!.\\/'+-=]\", \" \", text)\n",
    "    text = re.sub(r\"what's\", \"what is \", text)\n",
    "    text = re.sub(r\"\\'s\", \" \", text)\n",
    "    text = re.sub(r\"\\'ve\", \" have \", text)\n",
    "    text = re.sub(r\"can't\", \"cannot \", text)\n",
    "    text = re.sub(r\"n't\", \" not \", text)\n",
    "    text = re.sub(r\"i'm\", \"i am \", text)\n",
    "    text = re.sub(r\"\\'re\", \" are \", text)\n",
    "    text = re.sub(r\"\\'d\", \" would \", text)\n",
    "    text = re.sub(r\"\\'ll\", \" will \", text)\n",
    "    text = re.sub(r\",\", \" \", text)\n",
    "    text = re.sub(r\"\\.\", \" \", text)\n",
    "    text = re.sub(r\"!\", \" ! \", text)\n",
    "    text = re.sub(r\"\\/\", \" \", text)\n",
    "    text = re.sub(r\"\\^\", \" ^ \", text)\n",
    "    text = re.sub(r\"\\+\", \" + \", text)\n",
    "    text = re.sub(r\"\\-\", \" \", text)\n",
    "    text = re.sub(r\"\\=\", \" = \", text)\n",
    "    text = re.sub(r\"\\<\", \"\", text)\n",
    "    text = re.sub(r\"\\>\", \"\", text)\n",
    "    text = re.sub(r\"'\", \" \", text)\n",
    "    text = re.sub(r\"(\\d+)(k)\", r\"\\g<1>000\", text)\n",
    "    text = re.sub(r\":\", \" : \", text)\n",
    "    text = re.sub(r\" e g \", \" eg \", text)\n",
    "    text = re.sub(r\" b g \", \" bg \", text)\n",
    "    text = re.sub(r\" u s \", \" american \", text)\n",
    "    text = re.sub(r\"\\0s\", \"0\", text)\n",
    "    text = re.sub(r\" 9 11 \", \"911\", text)\n",
    "    text = re.sub(r\"e - mail\", \"email\", text)\n",
    "    text = re.sub(r\"j k\", \"jk\", text)\n",
    "    text = re.sub(r\"\\s{2,}\", \" \", text)\n",
    "\n",
    "    tockens = text.split(' ')\n",
    "    # NO stopwords or lemmatization\n",
    "    tockens = [word for word in tockens]\n",
    "    return ' '.join([t for t in tockens])\n",
    "\n",
    "# preprocessing data\n",
    "#-------------------------------------------------------------------------------\n",
    "for index, row in sts1.iterrows():\n",
    "    #sts1\n",
    "    sts1.loc[index, \"SentenceA\"] = preprocess_text(sts1.loc[index, \"SentenceA\"])\n",
    "    sts1.loc[index, \"SentenceB\"] = preprocess_text(sts1.loc[index, \"SentenceB\"])\n",
    "\n",
    "for index, row in stsfull.iterrows():\n",
    "    #sts full\n",
    "    stsfull.loc[index, \"sent_1\"] = preprocess_text(stsfull.loc[index, \"sent_1\"])\n",
    "    stsfull.loc[index, \"sent_2\"] = preprocess_text(stsfull.loc[index, \"sent_2\"])\n",
    "\n",
    "for index, row in survey.iterrows():\n",
    "    #survey\n",
    "    survey.loc[index, \"sent_1\"] = preprocess_text(survey.loc[index, \"sent_1\"])\n",
    "    survey.loc[index, \"sent_2\"] = preprocess_text(survey.loc[index, \"sent_2\"])\n",
    "\n",
    "# score normalization to range[0,1]\n",
    "#-------------------------------------------------------------------------------\n",
    "sts1[\"Score\"]  = sts1[\"Score\"]/5\n",
    "stsfull[\"sim\"] = stsfull[\"sim\"]/5\n"
   ]
  },
  {
   "cell_type": "markdown",
   "metadata": {
    "id": "kO4X_e8EoFHg"
   },
   "source": [
    "# STS1 DATASET"
   ]
  },
  {
   "cell_type": "markdown",
   "metadata": {
    "id": "LT7SxB74S2dP"
   },
   "source": [
    "### bert base"
   ]
  },
  {
   "cell_type": "code",
   "execution_count": null,
   "metadata": {
    "colab": {
     "base_uri": "https://localhost:8080/"
    },
    "executionInfo": {
     "elapsed": 2361709,
     "status": "ok",
     "timestamp": 1613907122347,
     "user": {
      "displayName": "Sara Bonati",
      "photoUrl": "https://lh3.googleusercontent.com/a-/AOh14GhP7RR9bSO8ueBfRjNzuMdelA6_UOkOGo2DDY7OrA=s64",
      "userId": "09881996973668689480"
     },
     "user_tz": -60
    },
    "id": "6a-oIO91oSbb",
    "outputId": "7b316e77-c548-42e3-a7c1-44cf5340b357"
   },
   "outputs": [
    {
     "name": "stderr",
     "output_type": "stream",
     "text": [
      "100%|██████████| 405M/405M [00:45<00:00, 8.87MB/s]\n",
      "100%|██████████| 1218/1218 [04:12<00:00,  4.82it/s]\n",
      "100%|██████████| 1.24G/1.24G [02:01<00:00, 10.3MB/s]\n",
      "100%|██████████| 1218/1218 [14:00<00:00,  1.45it/s]\n",
      "100%|██████████| 1.31G/1.31G [02:07<00:00, 10.3MB/s]\n",
      "100%|██████████| 1218/1218 [14:45<00:00,  1.38it/s]\n"
     ]
    }
   ],
   "source": [
    "#BERT BASE\n",
    "import torch.nn as nn\n",
    "\n",
    "model             = SentenceTransformer('stsb-bert-base')\n",
    "cos               = nn.CosineSimilarity(dim=0)\n",
    "results_bertbase  = np.zeros((len(sts1),1)) \n",
    "\n",
    "for s in tqdm(range(len(sts1))):\n",
    "    sentence_embedding1   = model.encode(str(sts1.iloc[s,0]),convert_to_tensor=True)            \n",
    "    sentence_embedding2   = model.encode(str(sts1.iloc[s,1]),convert_to_tensor=True)\n",
    "    results_bertbase[s,0] = cos(sentence_embedding1,sentence_embedding2).item()"
   ]
  },
  {
   "cell_type": "markdown",
   "metadata": {
    "id": "pK3gkr24S5YI"
   },
   "source": [
    "### bert large"
   ]
  },
  {
   "cell_type": "code",
   "execution_count": null,
   "metadata": {
    "id": "fYsYaBXbS7JS"
   },
   "outputs": [],
   "source": [
    "#BERT LARGE\n",
    "model             = SentenceTransformer('stsb-bert-large')\n",
    "cos               = nn.CosineSimilarity(dim=0)\n",
    "results_bertlarge = np.zeros((len(sts1),1)) \n",
    "\n",
    "for s in tqdm(range(len(sts1))):\n",
    "    sentence_embedding1   = model.encode(str(sts1.iloc[s,0]),convert_to_tensor=True)            \n",
    "    sentence_embedding2   = model.encode(str(sts1.iloc[s,1]),convert_to_tensor=True)\n",
    "    results_bertlarge[s,0] = cos(sentence_embedding1,sentence_embedding2).item()"
   ]
  },
  {
   "cell_type": "markdown",
   "metadata": {
    "id": "RWXv8_O3S7QG"
   },
   "source": [
    "### roberta large"
   ]
  },
  {
   "cell_type": "code",
   "execution_count": null,
   "metadata": {
    "id": "BLsujv6yS9vm"
   },
   "outputs": [],
   "source": [
    "# ROBERTA LARGE\n",
    "model             = SentenceTransformer('stsb-roberta-large')\n",
    "cos               = nn.CosineSimilarity(dim=0)\n",
    "results_roberta  = np.zeros((len(sts1),1)) \n",
    "\n",
    "for s in tqdm(range(len(sts1))):\n",
    "    sentence_embedding1   = model.encode(str(sts1.iloc[s,0]),convert_to_tensor=True)            \n",
    "    sentence_embedding2   = model.encode(str(sts1.iloc[s,1]),convert_to_tensor=True)\n",
    "    results_roberta[s,0] = cos(sentence_embedding1,sentence_embedding2).item()"
   ]
  },
  {
   "cell_type": "markdown",
   "metadata": {
    "id": "II-IsxofoXJh"
   },
   "source": [
    "### nli bert base cls pooling"
   ]
  },
  {
   "cell_type": "code",
   "execution_count": null,
   "metadata": {
    "colab": {
     "base_uri": "https://localhost:8080/"
    },
    "executionInfo": {
     "elapsed": 3200663,
     "status": "ok",
     "timestamp": 1613907961309,
     "user": {
      "displayName": "Sara Bonati",
      "photoUrl": "https://lh3.googleusercontent.com/a-/AOh14GhP7RR9bSO8ueBfRjNzuMdelA6_UOkOGo2DDY7OrA=s64",
      "userId": "09881996973668689480"
     },
     "user_tz": -60
    },
    "id": "oUhwMUVYoZZa",
    "outputId": "8da963b5-5d82-408b-c1ef-9591e4f4bcda"
   },
   "outputs": [
    {
     "name": "stderr",
     "output_type": "stream",
     "text": [
      "100%|██████████| 405M/405M [00:47<00:00, 8.46MB/s]\n",
      "100%|██████████| 1218/1218 [04:27<00:00,  4.55it/s]\n",
      "100%|██████████| 405M/405M [00:47<00:00, 8.53MB/s]\n",
      "100%|██████████| 1218/1218 [04:19<00:00,  4.69it/s]\n",
      "100%|██████████| 306M/306M [00:40<00:00, 7.48MB/s]\n",
      "100%|██████████| 1218/1218 [02:25<00:00,  8.38it/s]"
     ]
    },
    {
     "name": "stdout",
     "output_type": "stream",
     "text": [
      "\n",
      "\n",
      "  Correlation (STS1):  0.14878095990104667  ( SBERT_bertbase )\n",
      "  Correlation (STS1):  0.1509999655197616  ( SBERT_bertlarge )\n",
      "  Correlation (STS1):  0.14496499370724675  ( SBERT_robertalarge )\n",
      "  Correlation (STS1):  0.12993863698468672  ( SBERT_nli-bert-base-cls-pooling )\n",
      "  Correlation (STS1):  0.14428750585862435  ( SBERT_nli-bert-base-max-pooling )\n",
      "  Correlation (STS1):  0.1692670182701759  ( paraphrase-distilroberta-base-v1 )\n"
     ]
    },
    {
     "name": "stderr",
     "output_type": "stream",
     "text": [
      "\n"
     ]
    }
   ],
   "source": [
    "#NLI BERT BASE CLS POOLING\n",
    "model               = SentenceTransformer('nli-bert-base-cls-pooling')\n",
    "cos                 = nn.CosineSimilarity(dim=0)\n",
    "results_nlibertcls  = np.zeros((len(sts1),1)) \n",
    "\n",
    "for s in tqdm(range(len(sts1))):\n",
    "    sentence_embedding1   = model.encode(str(sts1.iloc[s,0]),convert_to_tensor=True)            \n",
    "    sentence_embedding2   = model.encode(str(sts1.iloc[s,1]),convert_to_tensor=True)\n",
    "    results_nlibertcls[s,0]  = cos(sentence_embedding1,sentence_embedding2).item()"
   ]
  },
  {
   "cell_type": "markdown",
   "metadata": {
    "id": "gZFsZLALTLcq"
   },
   "source": [
    "### nli bert base max pooling"
   ]
  },
  {
   "cell_type": "code",
   "execution_count": null,
   "metadata": {
    "id": "coNUT_-1TK58"
   },
   "outputs": [],
   "source": [
    "#NLI BERT BASE MAX POOLING\n",
    "model               = SentenceTransformer('nli-bert-base-max-pooling')\n",
    "cos                 = nn.CosineSimilarity(dim=0)\n",
    "results_nlibertmax  = np.zeros((len(sts1),1)) \n",
    "\n",
    "for s in tqdm(range(len(sts1))):\n",
    "    sentence_embedding1   = model.encode(str(sts1.iloc[s,0]),convert_to_tensor=True)            \n",
    "    sentence_embedding2   = model.encode(str(sts1.iloc[s,1]),convert_to_tensor=True)\n",
    "    results_nlibertmax[s,0]  = cos(sentence_embedding1,sentence_embedding2).item()"
   ]
  },
  {
   "cell_type": "markdown",
   "metadata": {
    "id": "OtkdTg7QTMfB"
   },
   "source": [
    "### paraphrase-distilroberta-base-v1"
   ]
  },
  {
   "cell_type": "code",
   "execution_count": null,
   "metadata": {
    "id": "bewjeUiNTMq3"
   },
   "outputs": [],
   "source": [
    "# DISTILLROBERTA BASE\n",
    "model               = SentenceTransformer('paraphrase-distilroberta-base-v1')\n",
    "cos                 = nn.CosineSimilarity(dim=0)\n",
    "results_pdist_lbert  = np.zeros((len(sts1),1)) \n",
    "\n",
    "for s in tqdm(range(len(sts1))):\n",
    "    sentence_embedding1   = model.encode(str(sts1.iloc[s,0]),convert_to_tensor=True)            \n",
    "    sentence_embedding2   = model.encode(str(sts1.iloc[s,1]),convert_to_tensor=True)\n",
    "    results_pdist_lbert[s,0]  = cos(sentence_embedding1,sentence_embedding2).item()"
   ]
  },
  {
   "cell_type": "code",
   "execution_count": null,
   "metadata": {
    "id": "QMJjRxNdTNNS"
   },
   "outputs": [],
   "source": [
    "# save results\n",
    "SBERT_STS1_dataframe  = pd.DataFrame({'SBERT_bertbase': results_bertbase[:,0],\n",
    "                                 'SBERT_bertlarge': results_bertlarge[:,0],\n",
    "                                 'SBERT_robertalarge': results_roberta[:,0],\n",
    "                                 'SBERT_nli-bert-base-cls-pooling':results_nlibertcls[:,0],\n",
    "                                 'SBERT_nli-bert-base-max-pooling':results_nlibertmax[:,0],\n",
    "                                 'paraphrase-distilroberta-base-v1':results_pdist_lbert[:,0]})\n",
    "for i in range(6):\n",
    "    SBERT_model_corr = SBERT_STS1_dataframe[SBERT_STS1_dataframe.columns.tolist()[i]].corr(sts1[\"Score\"])\n",
    "    print(\"  Correlation (STS1): \",SBERT_model_corr,\" (\",SBERT_STS1_dataframe.columns.tolist()[i],\")\")\n",
    "\n",
    "#SBERT_STS1_dataframe.to_pickle('Sbert_STS1_results.pkl')"
   ]
  },
  {
   "cell_type": "markdown",
   "metadata": {
    "id": "-jRzxpww3xeJ"
   },
   "source": [
    "## figures (STS1)"
   ]
  },
  {
   "cell_type": "code",
   "execution_count": null,
   "metadata": {
    "colab": {
     "base_uri": "https://localhost:8080/",
     "height": 820
    },
    "executionInfo": {
     "elapsed": 3205371,
     "status": "ok",
     "timestamp": 1613907966031,
     "user": {
      "displayName": "Sara Bonati",
      "photoUrl": "https://lh3.googleusercontent.com/a-/AOh14GhP7RR9bSO8ueBfRjNzuMdelA6_UOkOGo2DDY7OrA=s64",
      "userId": "09881996973668689480"
     },
     "user_tz": -60
    },
    "id": "5aGI5Aht301R",
    "outputId": "cb3ade54-1805-49b3-ddb9-22b4939f91da"
   },
   "outputs": [
    {
     "data": {
      "text/plain": [
       "Text(132.0, 0.5, 'STS1 sentence pair index')"
      ]
     },
     "execution_count": 5,
     "metadata": {
      "tags": []
     },
     "output_type": "execute_result"
    },
    {
     "data": {
      "image/png": "[encoded data removed]",
      "text/plain": [
       "<Figure size 1224x936 with 2 Axes>"
      ]
     },
     "metadata": {
      "needs_background": "light",
      "tags": []
     },
     "output_type": "display_data"
    }
   ],
   "source": [
    "#sts1.reset_index(inplace=True)\n",
    "#figure_idx = sts1.sample(n =20).index\n",
    "figure_dataframe = pd.DataFrame({\n",
    "                                 'Score':sts1.loc[[1,2,4,5,7,8,9,14],\"Score\"],\n",
    "                                 'SBERT_bertbase': results_bertbase[:8,0],\n",
    "                                 'SBERT_bertlarge': results_bertlarge[:8,0],\n",
    "                                 'SBERT_robertalarge': results_roberta[:8,0],\n",
    "                                 'SBERT_nli-bert-base-cls-pooling':results_nlibertcls[:8,0],\n",
    "                                 'SBERT_nli-bert-base-max-pooling':results_nlibertmax[:8,0],\n",
    "                                 'paraphrase-distilroberta-base-v1':results_pdist_lbert[:8,0]})\n",
    "\n",
    "\n",
    "import seaborn as sns\n",
    "fig1 = plt.figure(figsize=(17,13))\n",
    "gs = gridspec.GridSpec(1,1)\n",
    "ax={}\n",
    "ax[0]=fig1.add_subplot(gs[0,0])\n",
    "#ax[0].pcolor(simple_sentences)\n",
    "ax[0]=sns.heatmap(figure_dataframe, annot=True,\n",
    "                  cmap='viridis',\n",
    "                  linewidths=.5,\n",
    "                  cbar_kws={'label': 'semantic similarity score'})\n",
    "ax[0].tick_params(axis='both', which='major', labelsize=15)\n",
    "ax[0].set_xticklabels(['sim','sbertbase','sbertlarge','robertalarge','nlibert-cls','nlibert-max','p-distilroberta'])\n",
    "ax[0].tick_params(axis='y',rotation=0, labelsize=15)\n",
    "ax[0].tick_params(axis='x',rotation=0, labelsize=15)\n",
    "ax[0].set_title(\"Results (SBERT models, dataset: STS1)\",fontsize=20)\n",
    "ax[0].set_xlabel(\"Models (sim: gold standard)\",fontsize=17)\n",
    "ax[0].set_ylabel(\"STS1 sentence pair index\",fontsize=17)"
   ]
  },
  {
   "cell_type": "code",
   "execution_count": null,
   "metadata": {
    "colab": {
     "base_uri": "https://localhost:8080/"
    },
    "executionInfo": {
     "elapsed": 3205364,
     "status": "ok",
     "timestamp": 1613907966035,
     "user": {
      "displayName": "Sara Bonati",
      "photoUrl": "https://lh3.googleusercontent.com/a-/AOh14GhP7RR9bSO8ueBfRjNzuMdelA6_UOkOGo2DDY7OrA=s64",
      "userId": "09881996973668689480"
     },
     "user_tz": -60
    },
    "id": "PaJfmORfbQVf",
    "outputId": "969e9842-e7e1-41fc-e570-eb72939a1b52"
   },
   "outputs": [
    {
     "name": "stdout",
     "output_type": "stream",
     "text": [
      "\n",
      "\n",
      "micron has declared its first quarterly profit for three years \n",
      "micron numbers also marked the first quarterly profit in three years for the dram manufacturer \n",
      "\n",
      "\n",
      "the fines are part of failed republican efforts to force or entice the democrats to return \n",
      "perry said he backs the senate efforts including the fines to force the democrats to return \n",
      "\n",
      "\n",
      "the tech loaded nasdaq composite rose 20 96 points to 1595 91 ending at its highest level for 12 months \n",
      "the technology laced nasdaq composite index ixic climbed 19 11 points or 1 2 percent to 1 615 02 \n",
      "\n",
      "\n",
      "amgen shares gained 93 cents or 1 45 percent to 65 05 in afternoon trading on nasdaq \n",
      "shares of allergan were up 14 cents at 78 40 in late trading on the new york stock exchange \n",
      "\n",
      "\n",
      "chavez said investigators feel confident they have got at least one of the fires resolved in that regard \n",
      "albuquerque mayor martin chavez said investigators felt confident that with the arrests they had at least one of the fires resolved \n",
      "\n",
      "\n",
      "authorities said the scientist properly quarantined himself at home after he developed sars symptoms dec 10 \n",
      "the scientist also quarantined himself at home as soon as he developed sars symptoms officials said \n",
      "\n",
      "\n",
      "the support will come as a free software upgrade called webvpn for current customers that have support contracts \n",
      "the upgrade will be available as a free download for current customers with smarnet support in january 2004 \n",
      "\n",
      "\n",
      "counties with population declines will be vermillion posey and madison \n",
      "vermillion posey and madison county populations will decline \n"
     ]
    }
   ],
   "source": [
    "for i in range(8):\n",
    "    print(\"\\n\")\n",
    "    print(sts1.iloc[i,0])\n",
    "    print(sts1.iloc[i,1])"
   ]
  },
  {
   "cell_type": "markdown",
   "metadata": {
    "id": "HwA0r9FjoI5n"
   },
   "source": [
    "# STS FULL DATASET"
   ]
  },
  {
   "cell_type": "markdown",
   "metadata": {
    "id": "mPBDznwaZrcL"
   },
   "source": [
    "### bert base"
   ]
  },
  {
   "cell_type": "code",
   "execution_count": null,
   "metadata": {
    "colab": {
     "base_uri": "https://localhost:8080/"
    },
    "executionInfo": {
     "elapsed": 4367054,
     "status": "ok",
     "timestamp": 1613909127733,
     "user": {
      "displayName": "Sara Bonati",
      "photoUrl": "https://lh3.googleusercontent.com/a-/AOh14GhP7RR9bSO8ueBfRjNzuMdelA6_UOkOGo2DDY7OrA=s64",
      "userId": "09881996973668689480"
     },
     "user_tz": -60
    },
    "id": "u9ECL2u0ASAj",
    "outputId": "c14fa737-8694-4f5a-92eb-45aa639cae4c"
   },
   "outputs": [
    {
     "name": "stderr",
     "output_type": "stream",
     "text": [
      "100%|██████████| 5506/5506 [19:11<00:00,  4.78it/s]\n"
     ]
    }
   ],
   "source": [
    "model             = SentenceTransformer('stsb-bert-base')\n",
    "cos               = nn.CosineSimilarity(dim=0)\n",
    "results_bertbase  = np.zeros((len(stsfull),1)) \n",
    "\n",
    "for s in tqdm(range(len(stsfull))):\n",
    "    sentence_embedding1   = model.encode(str(stsfull.iloc[s,5]),convert_to_tensor=True)            \n",
    "    sentence_embedding2   = model.encode(str(stsfull.iloc[s,6]),convert_to_tensor=True)\n",
    "    results_bertbase[s,0] = cos(sentence_embedding1,sentence_embedding2).item()\n"
   ]
  },
  {
   "cell_type": "markdown",
   "metadata": {
    "id": "DnNEw9JtZtvd"
   },
   "source": [
    "### bert large"
   ]
  },
  {
   "cell_type": "code",
   "execution_count": null,
   "metadata": {
    "colab": {
     "base_uri": "https://localhost:8080/"
    },
    "executionInfo": {
     "elapsed": 8211755,
     "status": "ok",
     "timestamp": 1613912972444,
     "user": {
      "displayName": "Sara Bonati",
      "photoUrl": "https://lh3.googleusercontent.com/a-/AOh14GhP7RR9bSO8ueBfRjNzuMdelA6_UOkOGo2DDY7OrA=s64",
      "userId": "09881996973668689480"
     },
     "user_tz": -60
    },
    "id": "9ShbzqzIZl6A",
    "outputId": "a446f6c6-53a6-48b8-806e-b2943d7b2ab1"
   },
   "outputs": [
    {
     "name": "stderr",
     "output_type": "stream",
     "text": [
      "100%|██████████| 5506/5506 [1:03:31<00:00,  1.44it/s]\n"
     ]
    }
   ],
   "source": [
    "model             = SentenceTransformer('stsb-bert-large')\n",
    "cos               = nn.CosineSimilarity(dim=0)\n",
    "results_bertlarge = np.zeros((len(stsfull),1)) \n",
    "\n",
    "for s in tqdm(range(len(stsfull))):\n",
    "    sentence_embedding1   = model.encode(str(stsfull.iloc[s,5]),convert_to_tensor=True)            \n",
    "    sentence_embedding2   = model.encode(str(stsfull.iloc[s,6]),convert_to_tensor=True)\n",
    "    results_bertlarge[s,0] = cos(sentence_embedding1,sentence_embedding2).item()"
   ]
  },
  {
   "cell_type": "code",
   "execution_count": null,
   "metadata": {
    "colab": {
     "base_uri": "https://localhost:8080/"
    },
    "executionInfo": {
     "elapsed": 8211750,
     "status": "ok",
     "timestamp": 1613912972447,
     "user": {
      "displayName": "Sara Bonati",
      "photoUrl": "https://lh3.googleusercontent.com/a-/AOh14GhP7RR9bSO8ueBfRjNzuMdelA6_UOkOGo2DDY7OrA=s64",
      "userId": "09881996973668689480"
     },
     "user_tz": -60
    },
    "id": "yLXikNRPr-UW",
    "outputId": "d3027ae4-448d-4c89-f240-f833c478ba7c"
   },
   "outputs": [
    {
     "data": {
      "text/plain": [
       "array([[ 0.97906655],\n",
       "       [ 0.84765166],\n",
       "       [ 0.78402001],\n",
       "       ...,\n",
       "       [ 0.00366794],\n",
       "       [-0.02594963],\n",
       "       [-0.00133687]])"
      ]
     },
     "execution_count": 9,
     "metadata": {
      "tags": []
     },
     "output_type": "execute_result"
    }
   ],
   "source": [
    "results_bertlarge"
   ]
  },
  {
   "cell_type": "markdown",
   "metadata": {
    "id": "V6G0ECI3Zvvb"
   },
   "source": [
    "### roberta large"
   ]
  },
  {
   "cell_type": "code",
   "execution_count": null,
   "metadata": {
    "colab": {
     "base_uri": "https://localhost:8080/"
    },
    "executionInfo": {
     "elapsed": 12270201,
     "status": "ok",
     "timestamp": 1613917030907,
     "user": {
      "displayName": "Sara Bonati",
      "photoUrl": "https://lh3.googleusercontent.com/a-/AOh14GhP7RR9bSO8ueBfRjNzuMdelA6_UOkOGo2DDY7OrA=s64",
      "userId": "09881996973668689480"
     },
     "user_tz": -60
    },
    "id": "ew7HxBPsZ1vR",
    "outputId": "bbfd7065-ef02-46d5-98ad-7c188a0da52d"
   },
   "outputs": [
    {
     "name": "stderr",
     "output_type": "stream",
     "text": [
      "100%|██████████| 5506/5506 [1:07:02<00:00,  1.37it/s]\n"
     ]
    }
   ],
   "source": [
    "model             = SentenceTransformer('stsb-roberta-large')\n",
    "cos               = nn.CosineSimilarity(dim=0)\n",
    "results_roberta  = np.zeros((len(stsfull),1)) \n",
    "\n",
    "for s in tqdm(range(len(stsfull))):\n",
    "    sentence_embedding1   = model.encode(str(stsfull.iloc[s,5]),convert_to_tensor=True)            \n",
    "    sentence_embedding2   = model.encode(str(stsfull.iloc[s,6]),convert_to_tensor=True)\n",
    "    results_roberta[s,0] = cos(sentence_embedding1,sentence_embedding2).item()"
   ]
  },
  {
   "cell_type": "code",
   "execution_count": null,
   "metadata": {
    "colab": {
     "base_uri": "https://localhost:8080/"
    },
    "executionInfo": {
     "elapsed": 12270195,
     "status": "ok",
     "timestamp": 1613917030909,
     "user": {
      "displayName": "Sara Bonati",
      "photoUrl": "https://lh3.googleusercontent.com/a-/AOh14GhP7RR9bSO8ueBfRjNzuMdelA6_UOkOGo2DDY7OrA=s64",
      "userId": "09881996973668689480"
     },
     "user_tz": -60
    },
    "id": "vnKYna1ZDe7c",
    "outputId": "d65bec8b-b49a-4983-d50b-3d9fa05afcd2"
   },
   "outputs": [
    {
     "data": {
      "text/plain": [
       "array([[ 0.97745818],\n",
       "       [ 0.90696526],\n",
       "       [ 0.89877123],\n",
       "       ...,\n",
       "       [ 0.05014913],\n",
       "       [ 0.0719011 ],\n",
       "       [-0.06210924]])"
      ]
     },
     "execution_count": 11,
     "metadata": {
      "tags": []
     },
     "output_type": "execute_result"
    }
   ],
   "source": [
    "results_roberta"
   ]
  },
  {
   "cell_type": "markdown",
   "metadata": {
    "id": "JFaCzjsflBfX"
   },
   "source": [
    "### nli bert base cls pooling"
   ]
  },
  {
   "cell_type": "code",
   "execution_count": null,
   "metadata": {
    "colab": {
     "base_uri": "https://localhost:8080/"
    },
    "executionInfo": {
     "elapsed": 13498447,
     "status": "ok",
     "timestamp": 1613918259170,
     "user": {
      "displayName": "Sara Bonati",
      "photoUrl": "https://lh3.googleusercontent.com/a-/AOh14GhP7RR9bSO8ueBfRjNzuMdelA6_UOkOGo2DDY7OrA=s64",
      "userId": "09881996973668689480"
     },
     "user_tz": -60
    },
    "id": "YQzDFsDfklp7",
    "outputId": "f695b3f1-c7f0-4bb0-ec86-218fa35ae498"
   },
   "outputs": [
    {
     "name": "stderr",
     "output_type": "stream",
     "text": [
      "100%|██████████| 5506/5506 [20:16<00:00,  4.53it/s]\n"
     ]
    }
   ],
   "source": [
    "import torch.nn as nn\n",
    "model               = SentenceTransformer('nli-bert-base-cls-pooling')\n",
    "cos                 = nn.CosineSimilarity(dim=0)\n",
    "results_nlibertcls  = np.zeros((len(stsfull),1)) \n",
    "\n",
    "for s in tqdm(range(len(stsfull))):\n",
    "    sentence_embedding1   = model.encode(str(stsfull.iloc[s,5]),convert_to_tensor=True)            \n",
    "    sentence_embedding2   = model.encode(str(stsfull.iloc[s,6]),convert_to_tensor=True)\n",
    "    results_nlibertcls[s,0]  = cos(sentence_embedding1,sentence_embedding2).item()"
   ]
  },
  {
   "cell_type": "code",
   "execution_count": null,
   "metadata": {
    "colab": {
     "base_uri": "https://localhost:8080/"
    },
    "executionInfo": {
     "elapsed": 13498442,
     "status": "ok",
     "timestamp": 1613918259174,
     "user": {
      "displayName": "Sara Bonati",
      "photoUrl": "https://lh3.googleusercontent.com/a-/AOh14GhP7RR9bSO8ueBfRjNzuMdelA6_UOkOGo2DDY7OrA=s64",
      "userId": "09881996973668689480"
     },
     "user_tz": -60
    },
    "id": "gYf2ft7LrktO",
    "outputId": "7bd3ba2f-66f8-4d8c-d829-2b339f081dbf"
   },
   "outputs": [
    {
     "data": {
      "text/plain": [
       "array([[0.98378789],\n",
       "       [0.87997979],\n",
       "       [0.97959203],\n",
       "       ...,\n",
       "       [0.46059424],\n",
       "       [0.59252638],\n",
       "       [0.31043798]])"
      ]
     },
     "execution_count": 13,
     "metadata": {
      "tags": []
     },
     "output_type": "execute_result"
    }
   ],
   "source": [
    "results_nlibertcls"
   ]
  },
  {
   "cell_type": "markdown",
   "metadata": {
    "id": "RFdSAOfClnid"
   },
   "source": [
    "### nli bert base max pooling"
   ]
  },
  {
   "cell_type": "code",
   "execution_count": null,
   "metadata": {
    "colab": {
     "base_uri": "https://localhost:8080/"
    },
    "executionInfo": {
     "elapsed": 14679733,
     "status": "ok",
     "timestamp": 1613919440473,
     "user": {
      "displayName": "Sara Bonati",
      "photoUrl": "https://lh3.googleusercontent.com/a-/AOh14GhP7RR9bSO8ueBfRjNzuMdelA6_UOkOGo2DDY7OrA=s64",
      "userId": "09881996973668689480"
     },
     "user_tz": -60
    },
    "id": "n4oorUghlrdR",
    "outputId": "dddd5b33-dc38-4769-8a16-3cd9e357e800"
   },
   "outputs": [
    {
     "name": "stderr",
     "output_type": "stream",
     "text": [
      "100%|██████████| 5506/5506 [19:30<00:00,  4.70it/s]\n"
     ]
    }
   ],
   "source": [
    "model               = SentenceTransformer('nli-bert-base-max-pooling')\n",
    "cos                 = nn.CosineSimilarity(dim=0)\n",
    "results_nlibertmax  = np.zeros((len(stsfull),1)) \n",
    "\n",
    "for s in tqdm(range(len(stsfull))):\n",
    "    sentence_embedding1   = model.encode(str(stsfull.iloc[s,5]),convert_to_tensor=True)            \n",
    "    sentence_embedding2   = model.encode(str(stsfull.iloc[s,6]),convert_to_tensor=True)\n",
    "    results_nlibertmax[s,0]  = cos(sentence_embedding1,sentence_embedding2).item()"
   ]
  },
  {
   "cell_type": "code",
   "execution_count": null,
   "metadata": {
    "colab": {
     "base_uri": "https://localhost:8080/"
    },
    "executionInfo": {
     "elapsed": 14679726,
     "status": "ok",
     "timestamp": 1613919440475,
     "user": {
      "displayName": "Sara Bonati",
      "photoUrl": "https://lh3.googleusercontent.com/a-/AOh14GhP7RR9bSO8ueBfRjNzuMdelA6_UOkOGo2DDY7OrA=s64",
      "userId": "09881996973668689480"
     },
     "user_tz": -60
    },
    "id": "Oa-IH9bC4MZz",
    "outputId": "63372e00-08aa-42f5-edd7-2f271c725083"
   },
   "outputs": [
    {
     "data": {
      "text/plain": [
       "array([[0.98403662],\n",
       "       [0.91491491],\n",
       "       [0.97379136],\n",
       "       ...,\n",
       "       [0.67166436],\n",
       "       [0.77249551],\n",
       "       [0.6183604 ]])"
      ]
     },
     "execution_count": 15,
     "metadata": {
      "tags": []
     },
     "output_type": "execute_result"
    }
   ],
   "source": [
    "results_nlibertmax"
   ]
  },
  {
   "cell_type": "markdown",
   "metadata": {
    "id": "6p6jlv-sl7v7"
   },
   "source": [
    "### paraphrase-distilroberta-base-v1"
   ]
  },
  {
   "cell_type": "code",
   "execution_count": null,
   "metadata": {
    "colab": {
     "base_uri": "https://localhost:8080/"
    },
    "executionInfo": {
     "elapsed": 15353362,
     "status": "ok",
     "timestamp": 1613920114119,
     "user": {
      "displayName": "Sara Bonati",
      "photoUrl": "https://lh3.googleusercontent.com/a-/AOh14GhP7RR9bSO8ueBfRjNzuMdelA6_UOkOGo2DDY7OrA=s64",
      "userId": "09881996973668689480"
     },
     "user_tz": -60
    },
    "id": "C0TGzb80l8Ad",
    "outputId": "afd89320-8123-4487-e7a3-480ec5a9485a"
   },
   "outputs": [
    {
     "name": "stderr",
     "output_type": "stream",
     "text": [
      "100%|██████████| 5506/5506 [11:05<00:00,  8.28it/s]\n"
     ]
    }
   ],
   "source": [
    "model               = SentenceTransformer('paraphrase-distilroberta-base-v1')\n",
    "cos                 = nn.CosineSimilarity(dim=0)\n",
    "results_pdist_lbert  = np.zeros((len(stsfull),1)) \n",
    "\n",
    "for s in tqdm(range(len(stsfull))):\n",
    "    sentence_embedding1   = model.encode(str(stsfull.iloc[s,5]),convert_to_tensor=True)            \n",
    "    sentence_embedding2   = model.encode(str(stsfull.iloc[s,6]),convert_to_tensor=True)\n",
    "    results_pdist_lbert[s,0]  = cos(sentence_embedding1,sentence_embedding2).item()\n"
   ]
  },
  {
   "cell_type": "code",
   "execution_count": null,
   "metadata": {
    "colab": {
     "base_uri": "https://localhost:8080/"
    },
    "executionInfo": {
     "elapsed": 15353353,
     "status": "ok",
     "timestamp": 1613920114121,
     "user": {
      "displayName": "Sara Bonati",
      "photoUrl": "https://lh3.googleusercontent.com/a-/AOh14GhP7RR9bSO8ueBfRjNzuMdelA6_UOkOGo2DDY7OrA=s64",
      "userId": "09881996973668689480"
     },
     "user_tz": -60
    },
    "id": "N24qmCW07t0p",
    "outputId": "9ca781c8-2fd4-4662-a586-a1b42b51febe"
   },
   "outputs": [
    {
     "data": {
      "text/plain": [
       "array([[ 0.95377582],\n",
       "       [ 0.93892217],\n",
       "       [ 0.93670923],\n",
       "       ...,\n",
       "       [ 0.20774649],\n",
       "       [ 0.31355074],\n",
       "       [-0.03659407]])"
      ]
     },
     "execution_count": 17,
     "metadata": {
      "tags": []
     },
     "output_type": "execute_result"
    }
   ],
   "source": [
    "results_pdist_lbert"
   ]
  },
  {
   "cell_type": "code",
   "execution_count": null,
   "metadata": {
    "colab": {
     "base_uri": "https://localhost:8080/"
    },
    "executionInfo": {
     "elapsed": 15353342,
     "status": "ok",
     "timestamp": 1613920114122,
     "user": {
      "displayName": "Sara Bonati",
      "photoUrl": "https://lh3.googleusercontent.com/a-/AOh14GhP7RR9bSO8ueBfRjNzuMdelA6_UOkOGo2DDY7OrA=s64",
      "userId": "09881996973668689480"
     },
     "user_tz": -60
    },
    "id": "hqi6qAvlDkqC",
    "outputId": "2c8d6f1f-3b12-4c88-d9d5-869f6f25fc22"
   },
   "outputs": [
    {
     "name": "stdout",
     "output_type": "stream",
     "text": [
      "  Correlation:  0.9862573288279847  ( SBERT_bertbase )\n",
      "  Correlation:  0.9885678985042508  ( SBERT_bertlarge )\n",
      "  Correlation:  0.9790436412214734  ( SBERT_robertalarge )\n",
      "  Correlation:  0.7625416104377923  ( SBERT_nli-bert-base-cls-pooling )\n",
      "  Correlation:  0.7405382977579675  ( SBERT_nli-bert-base-max-pooling )\n",
      "  Correlation:  0.8280134163812316  ( paraphrase-distilroberta-base-v1 )\n"
     ]
    }
   ],
   "source": [
    "#save results\n",
    "SBERT_STSFull_dataframe  = pd.DataFrame({'SBERT_bertbase': results_bertbase[:,0],\n",
    "                                 'SBERT_bertlarge': results_bertlarge[:,0],\n",
    "                                 'SBERT_robertalarge': results_roberta[:,0],\n",
    "                                 'SBERT_nli-bert-base-cls-pooling':results_nlibertcls[:,0],\n",
    "                                 'SBERT_nli-bert-base-max-pooling':results_nlibertmax[:,0],\n",
    "                                 'paraphrase-distilroberta-base-v1':results_pdist_lbert[:,0]})\n",
    "for i in range(6):\n",
    "    SBERT_model_corr = SBERT_STSFull_dataframe[SBERT_STSFull_dataframe.columns.tolist()[i]].corr(stsfull[\"sim\"])\n",
    "    print(\"  Correlation (STSFull): \",SBERT_model_corr,\" (\",SBERT_STSFull_dataframe.columns.tolist()[i],\")\")"
   ]
  },
  {
   "cell_type": "markdown",
   "metadata": {
    "id": "rWZ6Vabi8RZ7"
   },
   "source": [
    "## figures"
   ]
  },
  {
   "cell_type": "code",
   "execution_count": null,
   "metadata": {
    "id": "rsg2I_ko8SqL"
   },
   "outputs": [],
   "source": [
    "sts_train['sbertbase']       = SBERT_dataframe['SBERT_bertbase']\n",
    "sts_train['sbertlarge']      = SBERT_dataframe['SBERT_bertlarge']\n",
    "sts_train['robertalarge']    = SBERT_dataframe['SBERT_robertalarge']\n",
    "sts_train['nlibert-cls']     = SBERT_dataframe['SBERT_nli-bert-base-cls-pooling']\n",
    "sts_train['nlibert-max']     = SBERT_dataframe['SBERT_nli-bert-base-max-pooling']\n",
    "sts_train['p-distilroberta'] = SBERT_dataframe['paraphrase-distilroberta-base-v1']\n",
    "#figure (simple sentences)\n",
    "import seaborn as sns\n",
    "simple_sentences = sts_train.loc[:8,['sim','sbertbase','sbertlarge','robertalarge','nlibert-cls','nlibert-max','p-distilroberta']]\n",
    "\n",
    "fig1 = plt.figure(figsize=(17,13))\n",
    "gs = gridspec.GridSpec(1,1)\n",
    "ax={}\n",
    "ax[0]=fig1.add_subplot(gs[0,0])\n",
    "#ax[0].pcolor(simple_sentences)\n",
    "ax[0]=sns.heatmap(simple_sentences, annot=True, cmap='viridis',linewidths=.5,cbar_kws={'label': 'semantic similarity score'})\n",
    "ax[0].tick_params(axis='both', which='major', labelsize=15)\n",
    "ax[0].tick_params(axis='y',rotation=0, labelsize=15)\n",
    "ax[0].set_title(\"Captions (SBERT models, dataset: STS full)\",fontsize=20)\n",
    "ax[0].set_xlabel(\"Models (sim: gold standard)\",fontsize=17)\n",
    "ax[0].set_ylabel(\"STS1 sentence pair index\",fontsize=17)"
   ]
  },
  {
   "cell_type": "code",
   "execution_count": null,
   "metadata": {
    "id": "HOZGhClJbsSG"
   },
   "outputs": [],
   "source": [
    "for i in range(8):\n",
    "    print(sts_train.loc[i,['sent_1']])\n",
    "    print(sts_train.loc[i,['sent_2']])\n",
    "    print('\\n')"
   ]
  },
  {
   "cell_type": "code",
   "execution_count": null,
   "metadata": {
    "id": "SNKAPiLmAtcD"
   },
   "outputs": [],
   "source": [
    "forum_sentences = sts_train.loc[1997:2004,['sim','sbertbase','sbertlarge','robertalarge','nlibert-cls','nlibert-max','p-distilroberta']]\n",
    "\n",
    "fig1 = plt.figure(figsize=(17,13))\n",
    "gs = gridspec.GridSpec(1,1)\n",
    "ax={}\n",
    "ax[0]=fig1.add_subplot(gs[0,0])\n",
    "#ax[0].pcolor(simple_sentences)\n",
    "ax[0]=sns.heatmap(forum_sentences, annot=True, cmap='viridis',linewidths=.5,cbar_kws={'label': 'semantic similarity score'})\n",
    "ax[0].tick_params(axis='both', which='major', labelsize=15)\n",
    "ax[0].tick_params(axis='y',rotation=0, labelsize=15)\n",
    "ax[0].set_title(\"Forums (SBERT models, dataset: STS full)\",fontsize=20)\n",
    "ax[0].set_xlabel(\"Models (sim: gold standard)\",fontsize=17)\n",
    "ax[0].set_ylabel(\"STS1 sentence pair index\",fontsize=17)"
   ]
  },
  {
   "cell_type": "code",
   "execution_count": null,
   "metadata": {
    "id": "pP4zG6Dvb6yV"
   },
   "outputs": [],
   "source": [
    "for i in range(8):\n",
    "    print(sts_train.loc[1997+i,['sent_1']])\n",
    "    print(sts_train.loc[1997+i,['sent_2']])\n",
    "    print('\\n')"
   ]
  },
  {
   "cell_type": "code",
   "execution_count": null,
   "metadata": {
    "id": "eOYqz52MBRvt"
   },
   "outputs": [],
   "source": [
    "news_sentences = sts_train.loc[2402:2410,['sim','sbertbase','sbertlarge','robertalarge','nlibert-cls','nlibert-max','p-distilroberta']]\n",
    "\n",
    "fig1 = plt.figure(figsize=(17,13))\n",
    "gs = gridspec.GridSpec(1,1)\n",
    "ax={}\n",
    "ax[0]=fig1.add_subplot(gs[0,0])\n",
    "#ax[0].pcolor(simple_sentences)\n",
    "ax[0]=sns.heatmap(news_sentences, annot=True, cmap='viridis',linewidths=.5,cbar_kws={'label': 'semantic similarity score'})\n",
    "ax[0].tick_params(axis='both', which='major', labelsize=15)\n",
    "ax[0].tick_params(axis='y',rotation=0, labelsize=15)\n",
    "ax[0].set_title(\"News (SBERT models, dataset: STS full)\",fontsize=20)\n",
    "ax[0].set_xlabel(\"Models (sim: gold standard)\",fontsize=17)\n",
    "ax[0].set_ylabel(\"STS1 sentence pair index\",fontsize=17)"
   ]
  },
  {
   "cell_type": "code",
   "execution_count": null,
   "metadata": {
    "id": "mwH4RaDWcBZX"
   },
   "outputs": [],
   "source": [
    "for i in range(8):\n",
    "    print(sts_train.loc[2402+i,['sent_1']])\n",
    "    print(sts_train.loc[2402+i,['sent_2']])\n",
    "    print('\\n')"
   ]
  },
  {
   "cell_type": "markdown",
   "metadata": {
    "id": "0hivXckEFVeP"
   },
   "source": [
    "# SURVEY DATASET"
   ]
  },
  {
   "cell_type": "markdown",
   "metadata": {
    "id": "UCiVhTH3VIH5"
   },
   "source": [
    "### bert base"
   ]
  },
  {
   "cell_type": "code",
   "execution_count": null,
   "metadata": {
    "colab": {
     "base_uri": "https://localhost:8080/"
    },
    "executionInfo": {
     "elapsed": 323338,
     "status": "ok",
     "timestamp": 1613921297264,
     "user": {
      "displayName": "Sara Bonati",
      "photoUrl": "https://lh3.googleusercontent.com/a-/AOh14GhP7RR9bSO8ueBfRjNzuMdelA6_UOkOGo2DDY7OrA=s64",
      "userId": "09881996973668689480"
     },
     "user_tz": -60
    },
    "id": "P29r_rDkFeKf",
    "outputId": "5173fa8f-566b-4769-e174-5f8e387987f2"
   },
   "outputs": [
    {
     "name": "stderr",
     "output_type": "stream",
     "text": [
      "100%|██████████| 100/100 [00:24<00:00,  4.05it/s]\n",
      "100%|██████████| 100/100 [01:06<00:00,  1.51it/s]\n",
      "100%|██████████| 100/100 [01:07<00:00,  1.48it/s]\n",
      "100%|██████████| 100/100 [00:20<00:00,  4.79it/s]\n",
      "100%|██████████| 100/100 [00:20<00:00,  4.88it/s]\n",
      "100%|██████████| 100/100 [00:11<00:00,  8.93it/s]"
     ]
    },
    {
     "name": "stdout",
     "output_type": "stream",
     "text": [
      "\n",
      "\n",
      "  Correlation (Survey):  0.09054994743338117  ( SBERT_bertbase )\n",
      "  Correlation (Survey):  0.05046533949937773  ( SBERT_bertlarge )\n",
      "  Correlation (Survey):  0.21605400320671814  ( SBERT_robertalarge )\n",
      "  Correlation (Survey):  0.070455015824144  ( SBERT_nli-bert-base-cls-pooling )\n",
      "  Correlation (Survey):  0.05175499413401207  ( SBERT_nli-bert-base-max-pooling )\n",
      "  Correlation (Survey):  0.30988343051130224  ( paraphrase-distilroberta-base-v1 )\n"
     ]
    },
    {
     "name": "stderr",
     "output_type": "stream",
     "text": [
      "\n"
     ]
    }
   ],
   "source": [
    "#BERT BASE\n",
    "import torch.nn as nn\n",
    "\n",
    "model             = SentenceTransformer('stsb-bert-base')\n",
    "cos               = nn.CosineSimilarity(dim=0)\n",
    "results_bertbase  = np.zeros((len(survey),1)) \n",
    "\n",
    "for s in tqdm(range(len(survey))):\n",
    "    sentence_embedding1   = model.encode(str(survey.iloc[s,0]),convert_to_tensor=True)            \n",
    "    sentence_embedding2   = model.encode(str(survey.iloc[s,1]),convert_to_tensor=True)\n",
    "    results_bertbase[s,0] = cos(sentence_embedding1,sentence_embedding2).item()"
   ]
  },
  {
   "cell_type": "markdown",
   "metadata": {
    "id": "m9qXNH2CVLu9"
   },
   "source": [
    "### bert large"
   ]
  },
  {
   "cell_type": "code",
   "execution_count": null,
   "metadata": {
    "id": "BOrJ8A-iVNG5"
   },
   "outputs": [],
   "source": [
    "#BERT LARGE\n",
    "model             = SentenceTransformer('stsb-bert-large')\n",
    "cos               = nn.CosineSimilarity(dim=0)\n",
    "results_bertlarge = np.zeros((len(survey),1)) \n",
    "\n",
    "for s in tqdm(range(len(survey))):\n",
    "    sentence_embedding1   = model.encode(str(survey.iloc[s,0]),convert_to_tensor=True)            \n",
    "    sentence_embedding2   = model.encode(str(survey.iloc[s,1]),convert_to_tensor=True)\n",
    "    results_bertlarge[s,0] = cos(sentence_embedding1,sentence_embedding2).item()"
   ]
  },
  {
   "cell_type": "markdown",
   "metadata": {
    "id": "nH0MtGDfVNlJ"
   },
   "source": [
    "### roberta large"
   ]
  },
  {
   "cell_type": "code",
   "execution_count": null,
   "metadata": {
    "id": "go0WJyn_VPcX"
   },
   "outputs": [],
   "source": [
    "# ROBERTA LARGE\n",
    "model             = SentenceTransformer('stsb-roberta-large')\n",
    "cos               = nn.CosineSimilarity(dim=0)\n",
    "results_roberta  = np.zeros((len(survey),1)) \n",
    "\n",
    "for s in tqdm(range(len(survey))):\n",
    "    sentence_embedding1   = model.encode(str(survey.iloc[s,0]),convert_to_tensor=True)            \n",
    "    sentence_embedding2   = model.encode(str(survey.iloc[s,1]),convert_to_tensor=True)\n",
    "    results_roberta[s,0] = cos(sentence_embedding1,sentence_embedding2).item()"
   ]
  },
  {
   "cell_type": "markdown",
   "metadata": {
    "id": "mSQw6PvEVP2I"
   },
   "source": [
    "### nli bert base cls pooling"
   ]
  },
  {
   "cell_type": "code",
   "execution_count": null,
   "metadata": {
    "id": "jXoY2XlGVRx1"
   },
   "outputs": [],
   "source": [
    "#NLI BERT BASE CLS POOLING\n",
    "model               = SentenceTransformer('nli-bert-base-cls-pooling')\n",
    "cos                 = nn.CosineSimilarity(dim=0)\n",
    "results_nlibertcls  = np.zeros((len(survey),1)) \n",
    "\n",
    "for s in tqdm(range(len(survey))):\n",
    "    sentence_embedding1   = model.encode(str(survey.iloc[s,0]),convert_to_tensor=True)            \n",
    "    sentence_embedding2   = model.encode(str(survey.iloc[s,1]),convert_to_tensor=True)\n",
    "    results_nlibertcls[s,0]  = cos(sentence_embedding1,sentence_embedding2).item()"
   ]
  },
  {
   "cell_type": "markdown",
   "metadata": {
    "id": "JLrk9EfIVSFA"
   },
   "source": [
    "### nli bert base max pooling"
   ]
  },
  {
   "cell_type": "code",
   "execution_count": null,
   "metadata": {
    "id": "FL7ZUQtbVTwi"
   },
   "outputs": [],
   "source": [
    "#NLI BERT BASE MAX POOLING\n",
    "model               = SentenceTransformer('nli-bert-base-max-pooling')\n",
    "cos                 = nn.CosineSimilarity(dim=0)\n",
    "results_nlibertmax  = np.zeros((len(survey),1)) \n",
    "\n",
    "for s in tqdm(range(len(survey))):\n",
    "    sentence_embedding1   = model.encode(str(survey.iloc[s,0]),convert_to_tensor=True)            \n",
    "    sentence_embedding2   = model.encode(str(survey.iloc[s,1]),convert_to_tensor=True)\n",
    "    results_nlibertmax[s,0]  = cos(sentence_embedding1,sentence_embedding2).item()"
   ]
  },
  {
   "cell_type": "markdown",
   "metadata": {
    "id": "QLhSfyKWVT6R"
   },
   "source": [
    "### paraphrase-distilroberta-base-v1"
   ]
  },
  {
   "cell_type": "code",
   "execution_count": null,
   "metadata": {
    "id": "IFOqWWXQVWtj"
   },
   "outputs": [],
   "source": [
    "# DISTILLROBERTA BASE\n",
    "model               = SentenceTransformer('paraphrase-distilroberta-base-v1')\n",
    "cos                 = nn.CosineSimilarity(dim=0)\n",
    "results_pdist_lbert  = np.zeros((len(survey),1)) \n",
    "\n",
    "for s in tqdm(range(len(survey))):\n",
    "    sentence_embedding1   = model.encode(str(survey.iloc[s,0]),convert_to_tensor=True)            \n",
    "    sentence_embedding2   = model.encode(str(survey.iloc[s,1]),convert_to_tensor=True)\n",
    "    results_pdist_lbert[s,0]  = cos(sentence_embedding1,sentence_embedding2).item()"
   ]
  },
  {
   "cell_type": "code",
   "execution_count": null,
   "metadata": {
    "id": "l5X52TOlVXLh"
   },
   "outputs": [],
   "source": [
    "# save results\n",
    "SBERT_Survey_dataframe  = pd.DataFrame({'SBERT_bertbase': results_bertbase[:,0],\n",
    "                                 'SBERT_bertlarge': results_bertlarge[:,0],\n",
    "                                 'SBERT_robertalarge': results_roberta[:,0],\n",
    "                                 'SBERT_nli-bert-base-cls-pooling':results_nlibertcls[:,0],\n",
    "                                 'SBERT_nli-bert-base-max-pooling':results_nlibertmax[:,0],\n",
    "                                 'paraphrase-distilroberta-base-v1':results_pdist_lbert[:,0]})\n",
    "for i in range(6):\n",
    "    SBERT_model_corr = SBERT_Survey_dataframe[SBERT_Survey_dataframe.columns.tolist()[i]].corr(survey[\"score\"])\n",
    "    print(\"  Correlation (Survey): \",SBERT_model_corr,\" (\",SBERT_Survey_dataframe.columns.tolist()[i],\")\")"
   ]
  }
 ],
 "metadata": {
  "colab": {
   "authorship_tag": "ABX9TyPGAbpm++ABKOdilAmtouHU",
   "collapsed_sections": [],
   "name": "apply_model_SBERT.ipynb",
   "provenance": [],
   "toc_visible": true
  },
  "kernelspec": {
   "display_name": "Python 3",
   "language": "python",
   "name": "python3"
  },
  "language_info": {
   "codemirror_mode": {
    "name": "ipython",
    "version": 3
   },
   "file_extension": ".py",
   "mimetype": "text/x-python",
   "name": "python",
   "nbconvert_exporter": "python",
   "pygments_lexer": "ipython3",
   "version": "3.8.5"
  }
 },
 "nbformat": 4,
 "nbformat_minor": 4
}
